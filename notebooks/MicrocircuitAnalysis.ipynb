{
 "cells": [
  {
   "cell_type": "markdown",
   "metadata": {},
   "source": [
    "# Analysis BlueBuilder Column\n",
    "This notebook uses the brainbuilder library to perform some basic analysis of the columns resulting from previous runs of bluebuilder"
   ]
  },
  {
   "cell_type": "code",
   "execution_count": null,
   "metadata": {
    "collapsed": false
   },
   "outputs": [],
   "source": [
    "from brainbuilder.utils import bbp\n",
    "from voxcell import build\n",
    "\n",
    "%matplotlib inline\n",
    "from matplotlib import pyplot as plt\n",
    "import numpy as np\n",
    "import pandas as pd\n",
    "import fractions\n",
    "from voxcellview.widget import VoxcellWidget\n",
    "import report"
   ]
  },
  {
   "cell_type": "code",
   "execution_count": null,
   "metadata": {
    "collapsed": false
   },
   "outputs": [],
   "source": [
    "column_paths = (\n",
    "    '../data/bbp_circuits/SomatosensoryCxS1-v5.r0_O1/0/circuit.mvd2',\n",
    "    '../data/bbp_circuits/SomatosensoryCxS1-v5.r0_O1/1/circuit.mvd2',\n",
    "    '../data/bbp_circuits/SomatosensoryCxS1-v5.r0_O1/2/circuit.mvd2',\n",
    "    '../data/bbp_circuits/SomatosensoryCxS1-v5.r0_O1/3/circuit.mvd2',\n",
    "    '../data/bbp_circuits/SomatosensoryCxS1-v5.r0_O1/4/circuit.mvd2',\n",
    "    '../data/bbp_circuits/SomatosensoryCxS1-v5.r0_O1/5/circuit.mvd2',\n",
    "    '../data/bbp_circuits/SomatosensoryCxS1-v5.r0_O1/6/circuit.mvd2'\n",
    ")\n",
    "\n",
    "bbp_columns = [bbp.load_mvd2(c) for c in column_paths]\n",
    "\n",
    "bbp_merged = bbp.load_mvd2('../data/bbp_circuits/SomatosensoryCxS1-v5.r0_O1/merged_circuit/circuit.mvd2')"
   ]
  },
  {
   "cell_type": "markdown",
   "metadata": {},
   "source": [
    "Take some data from your standard recipe and mesobuilder configuration to define the size of the hexagon and of the tiling"
   ]
  },
  {
   "cell_type": "code",
   "execution_count": null,
   "metadata": {
    "collapsed": false
   },
   "outputs": [],
   "source": [
    "# data from the recipe:\n",
    "recipe_filename = \"../data/bbp_recipe/builderRecipeAllPathways.xml\"\n",
    "neurondb_filename = '../data/bbp_recipe/neurondb.dat'\n",
    "\n",
    "lattice_vectors = {\n",
    "    'a1': np.array([230.92, 0.0]),\n",
    "    'a2': np.array([-115.46, 199.98]),\n",
    "}\n",
    "\n",
    "layer_heights_microns = {\n",
    "    1: 164.94915873,\n",
    "    2: 148.87602025,\n",
    "    3: 352.92508322,\n",
    "    4: 189.57183895,\n",
    "    5: 525.05585701,\n",
    "    6: 700.37845971\n",
    "}\n",
    "\n",
    "# data from the O1 meso_conf.yaml\n",
    "mosaic_n1 = 3\n",
    "mosaic_n2 = 3\n",
    "mosaic_coords_mask = [(0, 0), (0, 2)]"
   ]
  },
  {
   "cell_type": "code",
   "execution_count": null,
   "metadata": {
    "collapsed": false
   },
   "outputs": [],
   "source": [
    "hexagon_side = np.sqrt(np.sum(np.square(lattice_vectors['a1'])))"
   ]
  },
  {
   "cell_type": "markdown",
   "metadata": {},
   "source": [
    "## Hexagon"
   ]
  },
  {
   "cell_type": "markdown",
   "metadata": {},
   "source": [
    "Check the shape of the hexagon for each individual column"
   ]
  },
  {
   "cell_type": "code",
   "execution_count": null,
   "metadata": {
    "collapsed": false
   },
   "outputs": [],
   "source": [
    "report.check_hexagon_diameter(bbp_columns, hexagon_side)"
   ]
  },
  {
   "cell_type": "code",
   "execution_count": null,
   "metadata": {
    "collapsed": false
   },
   "outputs": [],
   "source": [
    "def plot_hexagon(title, column):\n",
    "    angles = np.arange(6 + 1) * ((2 * np.pi) / 6)\n",
    "    points = hexagon_side * np.array([np.cos(angles), np.sin(angles)]).transpose()\n",
    "\n",
    "    offset = lattice_vectors['a1'] * 1.5 + lattice_vectors['a2']\n",
    "\n",
    "    plt.figure()\n",
    "    plt.title(title)\n",
    "    plt.plot(column.positions[:, 0] - offset[0], column.positions[:, 2] - offset[1], 'b+')\n",
    "    plt.plot(points[:, 0], points[:, 1], 'r-')\n",
    "\n",
    "for i, c in enumerate(bbp_columns):\n",
    "    plot_hexagon(str(i), c)"
   ]
  },
  {
   "cell_type": "markdown",
   "metadata": {},
   "source": [
    "Note in the plots above how the columns are trying to avoid overlapping with the previously built columns. This causes the volume that column 6 can span to be less than that of column 0. However the number of cells is the same for all of them, which means later columns are more dense that the first ones.\n",
    "\n",
    "The graph below shows the density of a cylinder at the center of each column (to avoid edge effects). See how all of the columns have a density higher than column 0."
   ]
  },
  {
   "cell_type": "code",
   "execution_count": null,
   "metadata": {
    "collapsed": false
   },
   "outputs": [],
   "source": [
    "height = np.sum(layer_heights_microns.values())\n",
    "densities = report.calculate_columns_densities(bbp_columns, height, 190)\n",
    "plt.plot(densities * (10 ** 9), 'o')\n",
    "plt.plot(densities * (10 ** 9), ':')\n",
    "plt.title('Column density in O1 (core radius=%d microns)' % 190)\n",
    "plt.xlabel('column id')\n",
    "plt.ylabel('density (cells per cubic millimiter)')"
   ]
  },
  {
   "cell_type": "markdown",
   "metadata": {},
   "source": [
    "The graph below presents the same type of information but for 12 different O1 circuits that were built with the same binaries, recipe and mesobuilder configuration as the SomatosensoryCxS1-v5.r0. Note how column 0 tends to have the lowest density (because it was built in isolation) and column 6 to the highest (because it was constrained in 3 of its sides).\n",
    "\n",
    "<img src=\"assets/microcircuit_column_density.png\" align=\"left\">"
   ]
  },
  {
   "cell_type": "markdown",
   "metadata": {},
   "source": [
    "## Tiling"
   ]
  },
  {
   "cell_type": "markdown",
   "metadata": {},
   "source": [
    "Check if the tiling produces any density anomalies or collisions around the edges of the columns"
   ]
  },
  {
   "cell_type": "code",
   "execution_count": null,
   "metadata": {
    "collapsed": false
   },
   "outputs": [],
   "source": [
    "bbp_density = build.density_from_positions(bbp_merged.positions, (10, 10, 10))\n",
    "print bbp_density.raw.shape\n",
    "VoxcellWidget().show_volume('merged_density', bbp_density.raw > 1, display_parameters={\"particle_size\": 1})"
   ]
  },
  {
   "cell_type": "code",
   "execution_count": null,
   "metadata": {
    "collapsed": false
   },
   "outputs": [],
   "source": [
    "_ = plt.hist2d(bbp_merged.positions[:, 0], bbp_merged.positions[:, 2], bins=(110, 120), cmap='binary_r')\n",
    "plt.title('XZ Histogram of cell positions in O1')"
   ]
  },
  {
   "cell_type": "markdown",
   "metadata": {},
   "source": [
    "The graph below presents the same type of information but for 12 different O1 circuits that were built with the same binaries, recipe and mesobuilder configuration as the SomatosensoryCxS1-v5.r0.\n",
    "\n",
    "<img src=\"assets/microcircuit_O1_hist2d.png\" align=\"left\">"
   ]
  },
  {
   "cell_type": "markdown",
   "metadata": {},
   "source": [
    "## Cell height"
   ]
  },
  {
   "cell_type": "markdown",
   "metadata": {},
   "source": [
    "Check the distribution of cells along the Y component"
   ]
  },
  {
   "cell_type": "markdown",
   "metadata": {},
   "source": [
    "The next test looks at each one of the 7 columns and layers sepparately. Notice the abrupt change in density that seems to happen to most layers right in the middle. The reason for this is unclear but possibly a problem with either placement hints or the variety of heights for the available morphologies."
   ]
  },
  {
   "cell_type": "code",
   "execution_count": null,
   "metadata": {
    "collapsed": false
   },
   "outputs": [],
   "source": [
    "report.report_height_histogram(bbp_columns)"
   ]
  },
  {
   "cell_type": "markdown",
   "metadata": {},
   "source": [
    "## Cell counts"
   ]
  },
  {
   "cell_type": "code",
   "execution_count": null,
   "metadata": {
    "collapsed": false
   },
   "outputs": [],
   "source": [
    "recipe = bbp.get_distribution_from_recipe(recipe_filename)\n",
    "recipe.layer -= 1  # in the recipe they are indexed by 1 but in the mvd2 they are by 0"
   ]
  },
  {
   "cell_type": "markdown",
   "metadata": {},
   "source": [
    "Compare the percentages of cells grouped by layer with the values specified in the recipe."
   ]
  },
  {
   "cell_type": "code",
   "execution_count": null,
   "metadata": {
    "collapsed": false
   },
   "outputs": [],
   "source": [
    "report.report_cell_percentages(recipe, [bbp_columns[0]], ['layer'])"
   ]
  },
  {
   "cell_type": "markdown",
   "metadata": {},
   "source": [
    "Compare the percentages of cells grouped by layer-mtype-etype with the values specified in the recipe."
   ]
  },
  {
   "cell_type": "code",
   "execution_count": null,
   "metadata": {
    "collapsed": false,
    "scrolled": false
   },
   "outputs": [],
   "source": [
    "report.report_cell_percentages(recipe, [bbp_columns[0]], ['layer', 'mtype', 'etype'])"
   ]
  },
  {
   "cell_type": "code",
   "execution_count": null,
   "metadata": {
    "collapsed": false
   },
   "outputs": [],
   "source": [
    "neurondb = bbp.load_neurondb_v4(neurondb_filename)\n",
    "neurondb.layer -= 1  # in the neurondb they are indexed by 1 but in the mvd2 they are by 0"
   ]
  },
  {
   "cell_type": "markdown",
   "metadata": {},
   "source": [
    "Check morphology usage"
   ]
  },
  {
   "cell_type": "code",
   "execution_count": null,
   "metadata": {
    "collapsed": false
   },
   "outputs": [],
   "source": [
    "total_unique_morphs = neurondb.shape[0]\n",
    "for i, c in enumerate(bbp_columns):\n",
    "    unique_morphs = len(c.properties.morphology.unique())\n",
    "    print 'column %d number of cells: %d unique morphologies: %d (%f%% of available)' % (i, c.positions.shape[0], unique_morphs, unique_morphs * 100.0/ total_unique_morphs)\n",
    "\n",
    "unique_morphs = len(bbp_merged.properties.morphology.unique())\n",
    "print 'mosaic number of cells: %d unique morphologies: %d (%f%% of available)' % (bbp_merged.positions.shape[0], unique_morphs, unique_morphs * 100.0/ total_unique_morphs)"
   ]
  },
  {
   "cell_type": "code",
   "execution_count": null,
   "metadata": {
    "collapsed": false
   },
   "outputs": [],
   "source": [
    "report.report_morphology_used(neurondb, bbp_merged)"
   ]
  },
  {
   "cell_type": "markdown",
   "metadata": {},
   "source": [
    "## Placement Hints\n",
    "Look for layer-mtype-etype groups of morphologies whose placement hints define bins with zero probability. In other words, combinations of layer-mtype-etype for which there are parts of the layer where no valid morphology exists."
   ]
  },
  {
   "cell_type": "code",
   "execution_count": null,
   "metadata": {
    "collapsed": false,
    "scrolled": false
   },
   "outputs": [],
   "source": [
    "hints = report.collect_placement_hints(neurondb)\n",
    "report.report_placement_hints(hints)"
   ]
  },
  {
   "cell_type": "code",
   "execution_count": null,
   "metadata": {
    "collapsed": false
   },
   "outputs": [],
   "source": []
  }
 ],
 "metadata": {
  "kernelspec": {
   "display_name": "Python 2",
   "language": "python",
   "name": "python2"
  },
  "language_info": {
   "codemirror_mode": {
    "name": "ipython",
    "version": 2
   },
   "file_extension": ".py",
   "mimetype": "text/x-python",
   "name": "python",
   "nbconvert_exporter": "python",
   "pygments_lexer": "ipython2",
   "version": "2.7.6"
  }
 },
 "nbformat": 4,
 "nbformat_minor": 0
}
