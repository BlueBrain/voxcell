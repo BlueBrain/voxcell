{
 "cells": [
  {
   "cell_type": "markdown",
   "metadata": {},
   "source": [
    "### viewers setup"
   ]
  },
  {
   "cell_type": "code",
   "execution_count": 1,
   "metadata": {
    "collapsed": false
   },
   "outputs": [],
   "source": [
    "import os\n",
    "from os.path import join as joinp\n",
    "from brainbuilder.utils import viewer\n",
    "from IPython.display import HTML\n",
    "#location where output will be stored under viewer directory:\n",
    "directory = \"out\"\n",
    "\n",
    "# the output directory should be in the viewer directory to be accessible by the viewer.\n",
    "output_directory = joinp(\"..\", \"viewer\", directory)\n",
    "\n",
    "if not os.path.isdir(output_directory):\n",
    "    os.makedirs(output_directory)\n",
    "    \n",
    "#change display_server to the one that serves the viewer. \n",
    "display_server = \"http://localhost:8080/\"\n",
    "display_path = display_server + '#' + directory + '/'\n",
    "\n",
    "iframe = '<iframe src=\"'+ display_path + '%s\"  scrolling=\"no\" width=700 height=350></iframe>'"
   ]
  },
  {
   "cell_type": "markdown",
   "metadata": {},
   "source": [
    "### loaders initialization"
   ]
  },
  {
   "cell_type": "code",
   "execution_count": 2,
   "metadata": {
    "collapsed": false
   },
   "outputs": [],
   "source": [
    "from brainbuilder.utils import genbrain as gb\n",
    "from brainbuilder.utils import bbp\n",
    "from brainbuilder.utils import traits as tt"
   ]
  },
  {
   "cell_type": "markdown",
   "metadata": {},
   "source": [
    "# Brain Builder modules"
   ]
  },
  {
   "cell_type": "markdown",
   "metadata": {},
   "source": [
    "##   Build.Region: Region of Interest"
   ]
  },
  {
   "cell_type": "code",
   "execution_count": 3,
   "metadata": {
    "collapsed": false
   },
   "outputs": [],
   "source": [
    "from brainbuilder.select_region import select_region, select_hemisphere"
   ]
  },
  {
   "cell_type": "markdown",
   "metadata": {},
   "source": [
    "### input parameters"
   ]
  },
  {
   "cell_type": "code",
   "execution_count": 4,
   "metadata": {
    "collapsed": false
   },
   "outputs": [],
   "source": [
    "annotation = gb.MetaIO.load(\"../data/P56_Mouse_annotation/annotation.mhd\")\n",
    "hierarchy = gb.load_hierarchy(\"../data/P56_Mouse_annotation/annotation_hierarchy.json\")['msg'][0]\n",
    "full_density = gb.MetaIO.load(\"../data/atlasVolume/atlasVolume.mhd\")\n",
    "region_name = \"Primary somatosensory area\""
   ]
  },
  {
   "cell_type": "markdown",
   "metadata": {},
   "source": [
    "### run module"
   ]
  },
  {
   "cell_type": "code",
   "execution_count": 5,
   "metadata": {
    "collapsed": false
   },
   "outputs": [],
   "source": [
    "density_raw = select_region(annotation.raw, full_density.raw, hierarchy, region_name)\n",
    "density_raw = select_hemisphere(density_raw)"
   ]
  },
  {
   "cell_type": "markdown",
   "metadata": {},
   "source": [
    "### output"
   ]
  },
  {
   "cell_type": "code",
   "execution_count": 6,
   "metadata": {
    "collapsed": false
   },
   "outputs": [
    {
     "data": {
      "text/html": [
       "<iframe src=\"http://localhost:8080/#out/selected_region.mhd\"  scrolling=\"no\" width=700 height=350></iframe>"
      ],
      "text/plain": [
       "<IPython.core.display.HTML object>"
      ]
     },
     "execution_count": 6,
     "metadata": {},
     "output_type": "execute_result"
    }
   ],
   "source": [
    "import copy\n",
    "selected_region_mhd = copy.copy(full_density.mhd);\n",
    "selected_region_mhd['ElementDataFile'] = 'selected_region.raw'\n",
    "gb.save_meta_io(joinp(output_directory,'selected_region.mhd'),selected_region_mhd, joinp(output_directory,'selected_region.raw'), density_raw)\n",
    "HTML(iframe % \"selected_region.mhd\")"
   ]
  },
  {
   "cell_type": "markdown",
   "metadata": {},
   "source": [
    "##  Build.Cells:  Cell Positions"
   ]
  },
  {
   "cell_type": "code",
   "execution_count": 7,
   "metadata": {
    "collapsed": false
   },
   "outputs": [],
   "source": [
    "from brainbuilder.cell_positioning import cell_positioning"
   ]
  },
  {
   "cell_type": "markdown",
   "metadata": {},
   "source": [
    "### input parameters"
   ]
  },
  {
   "cell_type": "code",
   "execution_count": 8,
   "metadata": {
    "collapsed": false
   },
   "outputs": [],
   "source": [
    "voxel_dimensions = full_density.mhd['ElementSpacing']\n",
    "total_cell_count = 200000"
   ]
  },
  {
   "cell_type": "markdown",
   "metadata": {},
   "source": [
    "### run module"
   ]
  },
  {
   "cell_type": "code",
   "execution_count": 9,
   "metadata": {
    "collapsed": false
   },
   "outputs": [],
   "source": [
    "positions = cell_positioning(density_raw, voxel_dimensions, total_cell_count)"
   ]
  },
  {
   "cell_type": "markdown",
   "metadata": {},
   "source": [
    "### output"
   ]
  },
  {
   "cell_type": "code",
   "execution_count": 10,
   "metadata": {
    "collapsed": false
   },
   "outputs": [
    {
     "data": {
      "text/html": [
       "<iframe src=\"http://localhost:8080/#out/positions.pts\"  scrolling=\"no\" width=700 height=350></iframe>"
      ],
      "text/plain": [
       "<IPython.core.display.HTML object>"
      ]
     },
     "execution_count": 10,
     "metadata": {},
     "output_type": "execute_result"
    }
   ],
   "source": [
    "viewer.serialize_points(joinp(output_directory,'positions.pts'), positions, [[50, 50, 50]]*len(positions))\n",
    "HTML(iframe % \"positions.pts\")"
   ]
  },
  {
   "cell_type": "markdown",
   "metadata": {},
   "source": [
    "## Build.EI:  E-I ratios"
   ]
  },
  {
   "cell_type": "code",
   "execution_count": 11,
   "metadata": {
    "collapsed": false
   },
   "outputs": [],
   "source": [
    "from brainbuilder.assignment_synapse_class import assign_synapse_class_from_spatial_dist"
   ]
  },
  {
   "cell_type": "markdown",
   "metadata": {},
   "source": [
    "### input parameters"
   ]
  },
  {
   "cell_type": "code",
   "execution_count": 12,
   "metadata": {
    "collapsed": false
   },
   "outputs": [],
   "source": [
    "recipe_filename = \"../data/bbp_recipe/builderRecipeAllPathways.xml\"\n",
    "recipe_sdist = bbp.load_recipe_as_spatial_distribution(recipe_filename,annotation.raw, hierarchy, region_name)\n",
    "sclass_sdist = tt.reduce_distribution_collection(recipe_sdist, 'sClass')"
   ]
  },
  {
   "cell_type": "markdown",
   "metadata": {},
   "source": [
    "### run module"
   ]
  },
  {
   "cell_type": "code",
   "execution_count": 13,
   "metadata": {
    "collapsed": false
   },
   "outputs": [],
   "source": [
    "chosen_synapse_class = assign_synapse_class_from_spatial_dist(positions, sclass_sdist, voxel_dimensions)"
   ]
  },
  {
   "cell_type": "markdown",
   "metadata": {},
   "source": [
    "### output"
   ]
  },
  {
   "cell_type": "code",
   "execution_count": 14,
   "metadata": {
    "collapsed": false
   },
   "outputs": [
    {
     "data": {
      "text/html": [
       "<iframe src=\"http://localhost:8080/#out/sclass.pts\"  scrolling=\"no\" width=700 height=350></iframe>"
      ],
      "text/plain": [
       "<IPython.core.display.HTML object>"
      ]
     },
     "execution_count": 14,
     "metadata": {},
     "output_type": "execute_result"
    }
   ],
   "source": [
    "viewer.export_points(joinp(output_directory, 'sclass.pts'),positions, chosen_synapse_class, 'sClass')\n",
    "HTML(iframe % \"sclass.pts\")"
   ]
  },
  {
   "cell_type": "markdown",
   "metadata": {},
   "source": [
    "## Build.Composition.ME: METype for Soma"
   ]
  },
  {
   "cell_type": "code",
   "execution_count": 15,
   "metadata": {
    "collapsed": false
   },
   "outputs": [],
   "source": [
    "from brainbuilder.assignment_metype import assign_metype"
   ]
  },
  {
   "cell_type": "markdown",
   "metadata": {},
   "source": [
    "### run module"
   ]
  },
  {
   "cell_type": "code",
   "execution_count": 16,
   "metadata": {
    "collapsed": false
   },
   "outputs": [],
   "source": [
    "chosen_me = assign_metype(positions, chosen_synapse_class, recipe_sdist, voxel_dimensions)"
   ]
  },
  {
   "cell_type": "markdown",
   "metadata": {},
   "source": [
    "### output"
   ]
  },
  {
   "cell_type": "markdown",
   "metadata": {},
   "source": [
    "#### mtypes"
   ]
  },
  {
   "cell_type": "code",
   "execution_count": 17,
   "metadata": {
    "collapsed": false,
    "scrolled": true
   },
   "outputs": [
    {
     "data": {
      "text/html": [
       "<iframe src=\"http://localhost:8080/#out/mtype.pts\"  scrolling=\"no\" width=700 height=350></iframe>"
      ],
      "text/plain": [
       "<IPython.core.display.HTML object>"
      ]
     },
     "execution_count": 17,
     "metadata": {},
     "output_type": "execute_result"
    }
   ],
   "source": [
    "viewer.export_points(joinp(output_directory, 'mtype.pts'), positions, [me[0] for me in chosen_me], 'mtype')\n",
    "HTML(iframe % 'mtype.pts')"
   ]
  },
  {
   "cell_type": "markdown",
   "metadata": {},
   "source": [
    "#### etypes"
   ]
  },
  {
   "cell_type": "code",
   "execution_count": 18,
   "metadata": {
    "collapsed": false
   },
   "outputs": [
    {
     "data": {
      "text/html": [
       "<iframe src=\"http://localhost:8080/#out/etype.pts\"  scrolling=\"no\" width=700 height=350></iframe>"
      ],
      "text/plain": [
       "<IPython.core.display.HTML object>"
      ]
     },
     "execution_count": 18,
     "metadata": {},
     "output_type": "execute_result"
    }
   ],
   "source": [
    "viewer.export_points(joinp(output_directory, 'etype.pts'), positions, [me[1] for me in chosen_me], 'etype')\n",
    "HTML(iframe % 'etype.pts')"
   ]
  },
  {
   "cell_type": "markdown",
   "metadata": {},
   "source": [
    "## Build.Placement: Morphology assignment"
   ]
  },
  {
   "cell_type": "code",
   "execution_count": 19,
   "metadata": {
    "collapsed": false
   },
   "outputs": [],
   "source": [
    "from brainbuilder.assignment_morphology import assign_morphology"
   ]
  },
  {
   "cell_type": "markdown",
   "metadata": {},
   "source": [
    "### input parameters"
   ]
  },
  {
   "cell_type": "code",
   "execution_count": 20,
   "metadata": {
    "collapsed": false
   },
   "outputs": [],
   "source": [
    "neurondb_filename = \"../data/bbp_recipe/neurondb.dat\"\n",
    "neuron_sdist = bbp.load_neurondb_v4_as_spatial_distribution(neurondb_filename, annotation.raw,hierarchy, region_name,percentile=0.92)"
   ]
  },
  {
   "cell_type": "markdown",
   "metadata": {},
   "source": [
    "### run module"
   ]
  },
  {
   "cell_type": "code",
   "execution_count": 21,
   "metadata": {
    "collapsed": false
   },
   "outputs": [
    {
     "name": "stderr",
     "output_type": "stream",
     "text": [
      "WARNING:brainbuilder.utils.traits:missing distribution for 570 positions\n",
      "WARNING:brainbuilder.utils.traits:missing distribution for 422 positions\n",
      "WARNING:brainbuilder.utils.traits:missing distribution for 231 positions\n",
      "WARNING:brainbuilder.utils.traits:missing distribution for 272 positions\n",
      "WARNING:brainbuilder.utils.traits:missing distribution for 831 positions\n",
      "WARNING:brainbuilder.utils.traits:missing distribution for 826 positions\n",
      "WARNING:brainbuilder.utils.traits:missing distribution for 596 positions\n",
      "WARNING:brainbuilder.utils.traits:missing distribution for 98 positions\n",
      "WARNING:brainbuilder.utils.traits:missing distribution for 113 positions\n",
      "WARNING:brainbuilder.utils.traits:missing distribution for 69 positions\n",
      "WARNING:brainbuilder.utils.traits:missing distribution for 161 positions\n",
      "WARNING:brainbuilder.utils.traits:missing distribution for 63 positions\n",
      "WARNING:brainbuilder.utils.traits:missing distribution for 77 positions\n",
      "WARNING:brainbuilder.assignment_morphology:4329 / 200000 cells could not get a valid morphology assigned\n"
     ]
    }
   ],
   "source": [
    "chosen_morphology = assign_morphology(positions, chosen_me, neuron_sdist, voxel_dimensions)"
   ]
  },
  {
   "cell_type": "code",
   "execution_count": 22,
   "metadata": {
    "collapsed": false
   },
   "outputs": [
    {
     "data": {
      "text/html": [
       "<iframe src=\"http://localhost:8080/#out/morph.pts\"  scrolling=\"no\" width=700 height=350></iframe>"
      ],
      "text/plain": [
       "<IPython.core.display.HTML object>"
      ]
     },
     "execution_count": 22,
     "metadata": {},
     "output_type": "execute_result"
    }
   ],
   "source": [
    "viewer.export_points(joinp(output_directory, 'morph.pts'), positions, chosen_morphology, 'morphology')\n",
    "HTML(iframe % 'morph.pts')"
   ]
  }
 ],
 "metadata": {
  "kernelspec": {
   "display_name": "Python 2",
   "language": "python",
   "name": "python2"
  },
  "language_info": {
   "codemirror_mode": {
    "name": "ipython",
    "version": 2
   },
   "file_extension": ".py",
   "mimetype": "text/x-python",
   "name": "python",
   "nbconvert_exporter": "python",
   "pygments_lexer": "ipython2",
   "version": "2.7.10"
  }
 },
 "nbformat": 4,
 "nbformat_minor": 0
}
