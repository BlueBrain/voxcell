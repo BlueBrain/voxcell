{
 "cells": [
  {
   "cell_type": "markdown",
   "metadata": {},
   "source": [
    "### viewers setup"
   ]
  },
  {
   "cell_type": "code",
   "execution_count": 1,
   "metadata": {
    "collapsed": false
   },
   "outputs": [],
   "source": [
    "from IPython.display import display\n",
    "from notebook_viewer import NotebookViewer\n",
    "notebook = NotebookViewer()"
   ]
  },
  {
   "cell_type": "markdown",
   "metadata": {},
   "source": [
    "### loaders initialization"
   ]
  },
  {
   "cell_type": "code",
   "execution_count": 2,
   "metadata": {
    "collapsed": false
   },
   "outputs": [],
   "source": [
    "from brainbuilder.utils import genbrain as gb\n",
    "from brainbuilder.utils import bbp\n",
    "from brainbuilder.utils import traits as tt\n",
    "\n",
    "cells = gb.CellCollection()"
   ]
  },
  {
   "cell_type": "markdown",
   "metadata": {},
   "source": [
    "# Brain Builder modules"
   ]
  },
  {
   "cell_type": "markdown",
   "metadata": {},
   "source": [
    "##   Build.Region: Region of Interest"
   ]
  },
  {
   "cell_type": "code",
   "execution_count": 3,
   "metadata": {
    "collapsed": false
   },
   "outputs": [],
   "source": [
    "from brainbuilder.select_region import select_region, select_hemisphere"
   ]
  },
  {
   "cell_type": "markdown",
   "metadata": {},
   "source": [
    "### input parameters"
   ]
  },
  {
   "cell_type": "code",
   "execution_count": 4,
   "metadata": {
    "collapsed": false
   },
   "outputs": [],
   "source": [
    "annotation = gb.MetaIO.load(\"../data/P56_Mouse_annotation/annotation.mhd\")\n",
    "hierarchy = gb.load_hierarchy(\"../data/P56_Mouse_annotation/annotation_hierarchy.json\")['msg'][0]\n",
    "full_density = gb.MetaIO.load(\"../data/atlasVolume/atlasVolume.mhd\")\n",
    "region_name = \"Primary somatosensory area\""
   ]
  },
  {
   "cell_type": "markdown",
   "metadata": {},
   "source": [
    "### run module"
   ]
  },
  {
   "cell_type": "code",
   "execution_count": 5,
   "metadata": {
    "collapsed": false
   },
   "outputs": [],
   "source": [
    "density_raw = select_region(annotation.raw, full_density.raw, hierarchy, region_name)\n",
    "density_raw = select_hemisphere(density_raw)"
   ]
  },
  {
   "cell_type": "markdown",
   "metadata": {},
   "source": [
    "### output"
   ]
  },
  {
   "cell_type": "code",
   "execution_count": 6,
   "metadata": {
    "collapsed": false
   },
   "outputs": [
    {
     "data": {
      "text/html": [
       "<iframe src=\"../../static/index.html#out/density.mhd\" scrolling=\"no\" width=\"700\" height=\"350\"></iframe>\n",
       "<br><a href=\"../../static/index.html#out/density.mhd\" target=\"_blank\">fullscreen</a>"
      ],
      "text/plain": [
       "<IPython.core.display.HTML object>"
      ]
     },
     "metadata": {},
     "output_type": "display_data"
    }
   ],
   "source": [
    "notebook.show_metaio('density', full_density.mhd, density_raw)"
   ]
  },
  {
   "cell_type": "markdown",
   "metadata": {},
   "source": [
    "##  Build.Cells:  Cell Positions"
   ]
  },
  {
   "cell_type": "code",
   "execution_count": 7,
   "metadata": {
    "collapsed": false
   },
   "outputs": [],
   "source": [
    "from brainbuilder.cell_positioning import cell_positioning"
   ]
  },
  {
   "cell_type": "markdown",
   "metadata": {},
   "source": [
    "### input parameters"
   ]
  },
  {
   "cell_type": "code",
   "execution_count": 8,
   "metadata": {
    "collapsed": false
   },
   "outputs": [],
   "source": [
    "voxel_dimensions = full_density.mhd['ElementSpacing']\n",
    "total_cell_count = 200000"
   ]
  },
  {
   "cell_type": "markdown",
   "metadata": {},
   "source": [
    "### run module"
   ]
  },
  {
   "cell_type": "code",
   "execution_count": 9,
   "metadata": {
    "collapsed": false
   },
   "outputs": [],
   "source": [
    "cells.positions = cell_positioning(density_raw, voxel_dimensions, total_cell_count)"
   ]
  },
  {
   "cell_type": "markdown",
   "metadata": {},
   "source": [
    "### output"
   ]
  },
  {
   "cell_type": "code",
   "execution_count": 10,
   "metadata": {
    "collapsed": false
   },
   "outputs": [
    {
     "data": {
      "text/html": [
       "<iframe src=\"../../static/index.html#out/positions.pts\" scrolling=\"no\" width=\"700\" height=\"350\"></iframe>\n",
       "<br><a href=\"../../static/index.html#out/positions.pts\" target=\"_blank\">fullscreen</a>"
      ],
      "text/plain": [
       "<IPython.core.display.HTML object>"
      ]
     },
     "metadata": {},
     "output_type": "display_data"
    }
   ],
   "source": [
    "notebook.show_points('positions', cells.positions)"
   ]
  },
  {
   "cell_type": "markdown",
   "metadata": {},
   "source": [
    "## Build.EI:  E-I ratios"
   ]
  },
  {
   "cell_type": "code",
   "execution_count": 11,
   "metadata": {
    "collapsed": false
   },
   "outputs": [],
   "source": [
    "from brainbuilder.assignment_synapse_class import assign_synapse_class_from_spatial_dist"
   ]
  },
  {
   "cell_type": "markdown",
   "metadata": {},
   "source": [
    "### input parameters"
   ]
  },
  {
   "cell_type": "code",
   "execution_count": 12,
   "metadata": {
    "collapsed": false
   },
   "outputs": [],
   "source": [
    "recipe_filename = \"../data/bbp_recipe/builderRecipeAllPathways.xml\"\n",
    "recipe_sdist = bbp.load_recipe_as_spatial_distribution(recipe_filename,annotation.raw, hierarchy, region_name)\n",
    "sclass_sdist = tt.reduce_distribution_collection(recipe_sdist, 'synapse_class')"
   ]
  },
  {
   "cell_type": "markdown",
   "metadata": {},
   "source": [
    "### run module"
   ]
  },
  {
   "cell_type": "code",
   "execution_count": 13,
   "metadata": {
    "collapsed": false
   },
   "outputs": [],
   "source": [
    "chosen_synapse_class = assign_synapse_class_from_spatial_dist(cells.positions, sclass_sdist, voxel_dimensions)\n",
    "cells.add_properties(chosen_synapse_class)"
   ]
  },
  {
   "cell_type": "markdown",
   "metadata": {},
   "source": [
    "### output"
   ]
  },
  {
   "cell_type": "code",
   "execution_count": 14,
   "metadata": {
    "collapsed": false
   },
   "outputs": [
    {
     "data": {
      "text/html": [
       "<iframe src=\"../../static/index.html#out/synapse_class.pts\" scrolling=\"no\" width=\"700\" height=\"350\"></iframe>\n",
       "<br><a href=\"../../static/index.html#out/synapse_class.pts\" target=\"_blank\">fullscreen</a>"
      ],
      "text/plain": [
       "<IPython.core.display.HTML object>"
      ]
     },
     "metadata": {},
     "output_type": "display_data"
    }
   ],
   "source": [
    "notebook.show_property('synapse_class', cells.positions, cells.properties.synapse_class)"
   ]
  },
  {
   "cell_type": "markdown",
   "metadata": {},
   "source": [
    "## Build.Composition.ME: METype for Soma"
   ]
  },
  {
   "cell_type": "code",
   "execution_count": 15,
   "metadata": {
    "collapsed": false
   },
   "outputs": [],
   "source": [
    "from brainbuilder.assignment_metype import assign_metype"
   ]
  },
  {
   "cell_type": "markdown",
   "metadata": {},
   "source": [
    "### run module"
   ]
  },
  {
   "cell_type": "code",
   "execution_count": 16,
   "metadata": {
    "collapsed": false
   },
   "outputs": [],
   "source": [
    "chosen_me = assign_metype(cells.positions, cells.properties.synapse_class, recipe_sdist, voxel_dimensions)\n",
    "cells.add_properties(chosen_me)"
   ]
  },
  {
   "cell_type": "markdown",
   "metadata": {},
   "source": [
    "### output"
   ]
  },
  {
   "cell_type": "markdown",
   "metadata": {},
   "source": [
    "#### mtypes"
   ]
  },
  {
   "cell_type": "code",
   "execution_count": 17,
   "metadata": {
    "collapsed": false,
    "scrolled": true
   },
   "outputs": [
    {
     "data": {
      "text/html": [
       "<iframe src=\"../../static/index.html#out/mtype.pts\" scrolling=\"no\" width=\"700\" height=\"350\"></iframe>\n",
       "<br><a href=\"../../static/index.html#out/mtype.pts\" target=\"_blank\">fullscreen</a>"
      ],
      "text/plain": [
       "<IPython.core.display.HTML object>"
      ]
     },
     "metadata": {},
     "output_type": "display_data"
    }
   ],
   "source": [
    "notebook.show_property('mtype', cells.positions, cells.properties.mtype)"
   ]
  },
  {
   "cell_type": "markdown",
   "metadata": {},
   "source": [
    "#### etypes"
   ]
  },
  {
   "cell_type": "code",
   "execution_count": 18,
   "metadata": {
    "collapsed": false
   },
   "outputs": [
    {
     "data": {
      "text/html": [
       "<iframe src=\"../../static/index.html#out/etype.pts\" scrolling=\"no\" width=\"700\" height=\"350\"></iframe>\n",
       "<br><a href=\"../../static/index.html#out/etype.pts\" target=\"_blank\">fullscreen</a>"
      ],
      "text/plain": [
       "<IPython.core.display.HTML object>"
      ]
     },
     "metadata": {},
     "output_type": "display_data"
    }
   ],
   "source": [
    "notebook.show_property('etype', cells.positions, cells.properties.etype)"
   ]
  },
  {
   "cell_type": "markdown",
   "metadata": {},
   "source": [
    "## Build.Placement: Morphology assignment"
   ]
  },
  {
   "cell_type": "code",
   "execution_count": 19,
   "metadata": {
    "collapsed": false
   },
   "outputs": [],
   "source": [
    "from brainbuilder.assignment_morphology import assign_morphology"
   ]
  },
  {
   "cell_type": "markdown",
   "metadata": {},
   "source": [
    "### input parameters"
   ]
  },
  {
   "cell_type": "code",
   "execution_count": 20,
   "metadata": {
    "collapsed": false
   },
   "outputs": [],
   "source": [
    "neurondb_filename = \"../data/bbp_recipe/neurondb.dat\"\n",
    "neuron_sdist = bbp.load_neurondb_v4_as_spatial_distribution(neurondb_filename, annotation.raw,hierarchy, region_name,percentile=0.92)"
   ]
  },
  {
   "cell_type": "markdown",
   "metadata": {},
   "source": [
    "### run module"
   ]
  },
  {
   "cell_type": "code",
   "execution_count": 21,
   "metadata": {
    "collapsed": false
   },
   "outputs": [
    {
     "name": "stderr",
     "output_type": "stream",
     "text": [
      "WARNING:brainbuilder.utils.traits:missing distribution for 601 positions\n",
      "WARNING:brainbuilder.utils.traits:missing distribution for 109 positions\n",
      "WARNING:brainbuilder.utils.traits:missing distribution for 821 positions\n",
      "WARNING:brainbuilder.utils.traits:missing distribution for 269 positions\n",
      "WARNING:brainbuilder.utils.traits:missing distribution for 434 positions\n",
      "WARNING:brainbuilder.utils.traits:missing distribution for 577 positions\n",
      "WARNING:brainbuilder.utils.traits:missing distribution for 173 positions\n",
      "WARNING:brainbuilder.utils.traits:missing distribution for 920 positions\n",
      "WARNING:brainbuilder.utils.traits:missing distribution for 90 positions\n",
      "WARNING:brainbuilder.utils.traits:missing distribution for 76 positions\n",
      "WARNING:brainbuilder.utils.traits:missing distribution for 191 positions\n",
      "WARNING:brainbuilder.utils.traits:missing distribution for 72 positions\n",
      "WARNING:brainbuilder.utils.traits:missing distribution for 92 positions\n",
      "WARNING:brainbuilder.assignment_morphology:4425 / 200000 cells could not get a valid morphology assigned\n"
     ]
    }
   ],
   "source": [
    "chosen_morphology = assign_morphology(cells.positions, cells.properties[['mtype', 'etype']], neuron_sdist, voxel_dimensions)\n",
    "cells.add_properties(chosen_morphology)"
   ]
  },
  {
   "cell_type": "markdown",
   "metadata": {},
   "source": [
    "### output"
   ]
  },
  {
   "cell_type": "code",
   "execution_count": 22,
   "metadata": {
    "collapsed": false
   },
   "outputs": [
    {
     "data": {
      "text/html": [
       "<iframe src=\"../../static/index.html#out/morphology.pts\" scrolling=\"no\" width=\"700\" height=\"350\"></iframe>\n",
       "<br><a href=\"../../static/index.html#out/morphology.pts\" target=\"_blank\">fullscreen</a>"
      ],
      "text/plain": [
       "<IPython.core.display.HTML object>"
      ]
     },
     "metadata": {},
     "output_type": "display_data"
    }
   ],
   "source": [
    "notebook.show_property('morphology', cells.positions, cells.properties.morphology)"
   ]
  },
  {
   "cell_type": "markdown",
   "metadata": {},
   "source": [
    "## Orientation assignement"
   ]
  },
  {
   "cell_type": "code",
   "execution_count": 23,
   "metadata": {
    "collapsed": true
   },
   "outputs": [],
   "source": [
    "from brainbuilder.orientation_fields import compute_sscx_orientation_fields\n",
    "from brainbuilder.assignment_orientation import assign_orientations"
   ]
  },
  {
   "cell_type": "markdown",
   "metadata": {},
   "source": [
    "### run module"
   ]
  },
  {
   "cell_type": "code",
   "execution_count": 24,
   "metadata": {
    "collapsed": true
   },
   "outputs": [],
   "source": [
    "orientation_field = compute_sscx_orientation_fields(annotation, hierarchy, region_name)\n",
    "cells.orientations = assign_orientations(cells.positions, orientation_field, voxel_dimensions)"
   ]
  },
  {
   "cell_type": "markdown",
   "metadata": {},
   "source": [
    "### output"
   ]
  },
  {
   "cell_type": "code",
   "execution_count": 25,
   "metadata": {
    "collapsed": false
   },
   "outputs": [
    {
     "data": {
      "text/html": [
       "<iframe src=\"../../static/index.html#out/placement.placement\" scrolling=\"no\" width=\"700\" height=\"350\"></iframe>\n",
       "<br><a href=\"../../static/index.html#out/placement.placement\" target=\"_blank\">fullscreen</a>"
      ],
      "text/plain": [
       "<IPython.core.display.HTML object>"
      ]
     },
     "metadata": {},
     "output_type": "display_data"
    }
   ],
   "source": [
    "notebook.show_placement('placement', cells.positions, cells.orientations, cells.properties.morphology)"
   ]
  }
 ],
 "metadata": {
  "kernelspec": {
   "display_name": "Python 2",
   "language": "python",
   "name": "python2"
  },
  "language_info": {
   "codemirror_mode": {
    "name": "ipython",
    "version": 2
   },
   "file_extension": ".py",
   "mimetype": "text/x-python",
   "name": "python",
   "nbconvert_exporter": "python",
   "pygments_lexer": "ipython2",
   "version": "2.7.10"
  }
 },
 "nbformat": 4,
 "nbformat_minor": 0
}
