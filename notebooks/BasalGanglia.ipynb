{
 "cells": [
  {
   "cell_type": "code",
   "execution_count": 1,
   "metadata": {
    "collapsed": false
   },
   "outputs": [
    {
     "name": "stderr",
     "output_type": "stream",
     "text": [
      "/home/courcol/DEV/notebook_extensions/BrainBuilder/platform_venv/local/lib/python2.7/site-packages/matplotlib/font_manager.py:273: UserWarning: Matplotlib is building the font cache using fc-list. This may take a moment.\n",
      "  warnings.warn('Matplotlib is building the font cache using fc-list. This may take a moment.')\n"
     ]
    }
   ],
   "source": [
    "from collections import namedtuple\n",
    "import numpy as np\n",
    "import pandas as pd\n",
    "from voxcellview.widget import VoxcellWidget\n",
    "from voxcell.core import CellCollection, VoxelData\n",
    "from voxcell import build\n",
    "\n",
    "%matplotlib inline"
   ]
  },
  {
   "cell_type": "markdown",
   "metadata": {},
   "source": [
    "network properties from: https://collab.humanbrainproject.eu/#/collab/376/nav/3621"
   ]
  },
  {
   "cell_type": "markdown",
   "metadata": {},
   "source": [
    "units for length (heights, widths,...) are all in µm."
   ]
  },
  {
   "cell_type": "markdown",
   "metadata": {},
   "source": [
    "# density"
   ]
  },
  {
   "cell_type": "markdown",
   "metadata": {},
   "source": [
    "## layered annotations"
   ]
  },
  {
   "cell_type": "code",
   "execution_count": 2,
   "metadata": {
    "collapsed": false
   },
   "outputs": [],
   "source": [
    "LayerDefinition = namedtuple(\"LayerDefinition\", \"name, height, id\")\n",
    "layer_definitions = [\n",
    "    # unique layer\n",
    "    LayerDefinition(\"unique\", 500, 1),\n",
    "]\n",
    "\n",
    "volume_length = 500\n",
    "volume_width = 500"
   ]
  },
  {
   "cell_type": "code",
   "execution_count": 3,
   "metadata": {
    "collapsed": false
   },
   "outputs": [],
   "source": [
    "layer_ids = [l.id for l in reversed(layer_definitions)]\n",
    "layer_heights = [l.height for l in reversed(layer_definitions)]"
   ]
  },
  {
   "cell_type": "code",
   "execution_count": 4,
   "metadata": {
    "collapsed": false
   },
   "outputs": [],
   "source": [
    "voxel_side = 5.0 # arbitrary resolution. Lower values will use more memory.\n",
    "layer_heights_voxel = np.round(np.array(layer_heights) / voxel_side).astype(np.uint)\n",
    "volume_length_voxel = volume_length / voxel_side\n",
    "volume_width_voxel = volume_width / voxel_side"
   ]
  },
  {
   "cell_type": "code",
   "execution_count": 5,
   "metadata": {
    "collapsed": false
   },
   "outputs": [],
   "source": [
    "annotation = VoxelData(build.layered_annotation((volume_length_voxel, volume_width_voxel),\n",
    "                                                layer_heights_voxel, layer_ids),\n",
    "                       [voxel_side] * 3)"
   ]
  },
  {
   "cell_type": "code",
   "execution_count": 6,
   "metadata": {
    "collapsed": false
   },
   "outputs": [],
   "source": [
    "VoxcellWidget().show_volume('annotation', annotation, display_parameters={\"particle_size\": 3})"
   ]
  },
  {
   "cell_type": "markdown",
   "metadata": {},
   "source": [
    "## layer densities"
   ]
  },
  {
   "cell_type": "code",
   "execution_count": 7,
   "metadata": {
    "collapsed": true
   },
   "outputs": [],
   "source": [
    "# unit is cells per µ^3\n",
    "# original data are cells per mm^3\n",
    "DENSITY_RATIO = 1e-9  # to convert between mm^3 and micron^3\n",
    "\n",
    "density = {\n",
    "    \"unique\": {\n",
    "        \"D1_MSN\": 35e3 * DENSITY_RATIO,\n",
    "        # Golgi Cells\n",
    "        \"D2_MSN\": 35e3 * DENSITY_RATIO,\n",
    "        # Granule Cells\n",
    "        \"FS\": 700 * DENSITY_RATIO,\n",
    "    },\n",
    "}\n",
    "d_density = pd.DataFrame()"
   ]
  },
  {
   "cell_type": "code",
   "execution_count": 8,
   "metadata": {
    "collapsed": false
   },
   "outputs": [],
   "source": [
    "id_to_layer_name = dict((ld.id, ld.name) for ld in layer_definitions)"
   ]
  },
  {
   "cell_type": "code",
   "execution_count": 9,
   "metadata": {
    "collapsed": false
   },
   "outputs": [],
   "source": [
    "layer_name_to_id = dict((ld.name, ld.id) for ld in layer_definitions)"
   ]
  },
  {
   "cell_type": "code",
   "execution_count": 10,
   "metadata": {
    "collapsed": true
   },
   "outputs": [],
   "source": [
    "voxel_raw = np.zeros_like(annotation.raw, dtype=np.float32)"
   ]
  },
  {
   "cell_type": "code",
   "execution_count": 11,
   "metadata": {
    "collapsed": false
   },
   "outputs": [],
   "source": [
    "for l_id in layer_ids:\n",
    "    mask = annotation.raw == l_id\n",
    "    layer_name = id_to_layer_name[l_id]\n",
    "    voxel_raw[mask] = float(sum(density[id_to_layer_name[l_id]].values()))\n",
    "\n",
    "voxel_density = VoxelData(voxel_raw, annotation.voxel_dimensions, annotation.offset)"
   ]
  },
  {
   "cell_type": "code",
   "execution_count": 12,
   "metadata": {
    "collapsed": false
   },
   "outputs": [],
   "source": [
    "VoxcellWidget().show_volume('density', voxel_density, display_parameters={\"particle_size\": 3})"
   ]
  },
  {
   "cell_type": "markdown",
   "metadata": {},
   "source": [
    "# cell positions"
   ]
  },
  {
   "cell_type": "code",
   "execution_count": 13,
   "metadata": {
    "collapsed": true
   },
   "outputs": [],
   "source": [
    "new_cells = CellCollection()"
   ]
  },
  {
   "cell_type": "code",
   "execution_count": 14,
   "metadata": {
    "collapsed": false
   },
   "outputs": [],
   "source": [
    "layer_volumes = dict((layer.name, layer.height * volume_length * volume_width)\n",
    "                     for layer in layer_definitions)"
   ]
  },
  {
   "cell_type": "code",
   "execution_count": 15,
   "metadata": {
    "collapsed": false
   },
   "outputs": [],
   "source": [
    "total_cell_count = round(sum(layer_volumes[layer] * d\n",
    "                             for layer in layer_volumes\n",
    "                             for d in density[layer].values()))"
   ]
  },
  {
   "cell_type": "code",
   "execution_count": 16,
   "metadata": {
    "collapsed": false
   },
   "outputs": [
    {
     "data": {
      "text/plain": [
       "8838.0"
      ]
     },
     "execution_count": 16,
     "metadata": {},
     "output_type": "execute_result"
    }
   ],
   "source": [
    "total_cell_count"
   ]
  },
  {
   "cell_type": "code",
   "execution_count": 17,
   "metadata": {
    "collapsed": true
   },
   "outputs": [],
   "source": [
    "from brainbuilder.cell_positioning import cell_positioning"
   ]
  },
  {
   "cell_type": "code",
   "execution_count": 18,
   "metadata": {
    "collapsed": false
   },
   "outputs": [],
   "source": [
    "new_cells.positions = cell_positioning(voxel_density, int(total_cell_count))"
   ]
  },
  {
   "cell_type": "code",
   "execution_count": 19,
   "metadata": {
    "collapsed": false
   },
   "outputs": [],
   "source": [
    "VoxcellWidget().show_points('position', new_cells, display_parameters={\"particle_size\": 1})"
   ]
  },
  {
   "cell_type": "markdown",
   "metadata": {},
   "source": [
    "# mtype assignment"
   ]
  },
  {
   "cell_type": "markdown",
   "metadata": {},
   "source": [
    "## traits"
   ]
  },
  {
   "cell_type": "code",
   "execution_count": 20,
   "metadata": {
    "collapsed": false
   },
   "outputs": [],
   "source": [
    "traits_mtype = pd.DataFrame([[mtype] for layer in density\n",
    "                             for mtype in density[layer]],\n",
    "                            columns=[\"mtype\"])"
   ]
  },
  {
   "cell_type": "markdown",
   "metadata": {},
   "source": [
    "## distribution"
   ]
  },
  {
   "cell_type": "code",
   "execution_count": 21,
   "metadata": {
    "collapsed": false
   },
   "outputs": [],
   "source": [
    " dist_mtype = pd.DataFrame(data=0.0, index=traits_mtype.index, columns=id_to_layer_name.keys())"
   ]
  },
  {
   "cell_type": "code",
   "execution_count": 22,
   "metadata": {
    "collapsed": false
   },
   "outputs": [],
   "source": [
    "from voxcell.traits import SpatialDistribution"
   ]
  },
  {
   "cell_type": "code",
   "execution_count": 23,
   "metadata": {
    "collapsed": false
   },
   "outputs": [
    {
     "data": {
      "text/html": [
       "<div>\n",
       "<table border=\"1\" class=\"dataframe\">\n",
       "  <thead>\n",
       "    <tr style=\"text-align: right;\">\n",
       "      <th></th>\n",
       "      <th>1</th>\n",
       "    </tr>\n",
       "  </thead>\n",
       "  <tbody>\n",
       "    <tr>\n",
       "      <th>0</th>\n",
       "      <td>0.009901</td>\n",
       "    </tr>\n",
       "    <tr>\n",
       "      <th>1</th>\n",
       "      <td>0.495050</td>\n",
       "    </tr>\n",
       "    <tr>\n",
       "      <th>2</th>\n",
       "      <td>0.495050</td>\n",
       "    </tr>\n",
       "  </tbody>\n",
       "</table>\n",
       "</div>"
      ],
      "text/plain": [
       "          1\n",
       "0  0.009901\n",
       "1  0.495050\n",
       "2  0.495050"
      ]
     },
     "execution_count": 23,
     "metadata": {},
     "output_type": "execute_result"
    }
   ],
   "source": [
    "for layer in density:\n",
    "    for mtype in density[layer]:\n",
    "        d = traits_mtype[traits_mtype.mtype == mtype]\n",
    "        dist_mtype.loc[d.index, layer_name_to_id[layer]] = density[layer][mtype]\n",
    "dist_mtype /= dist_mtype.sum()\n",
    "dist_mtype"
   ]
  },
  {
   "cell_type": "markdown",
   "metadata": {},
   "source": [
    "## spatial distribution"
   ]
  },
  {
   "cell_type": "code",
   "execution_count": 24,
   "metadata": {
    "collapsed": false
   },
   "outputs": [],
   "source": [
    "sd = SpatialDistribution(annotation, dist_mtype, traits_mtype)"
   ]
  },
  {
   "cell_type": "code",
   "execution_count": 25,
   "metadata": {
    "collapsed": false
   },
   "outputs": [],
   "source": [
    "chosen_mtype = sd.assign(new_cells.positions)"
   ]
  },
  {
   "cell_type": "code",
   "execution_count": 26,
   "metadata": {
    "collapsed": false
   },
   "outputs": [],
   "source": [
    "property_mtype = sd.collect_traits(chosen_mtype, ['mtype'])"
   ]
  },
  {
   "cell_type": "code",
   "execution_count": 27,
   "metadata": {
    "collapsed": false
   },
   "outputs": [],
   "source": [
    "new_cells.add_properties(property_mtype)"
   ]
  },
  {
   "cell_type": "markdown",
   "metadata": {},
   "source": [
    "performs intrinsic validations based on the densities"
   ]
  },
  {
   "cell_type": "code",
   "execution_count": 28,
   "metadata": {
    "collapsed": false
   },
   "outputs": [
    {
     "data": {
      "text/html": [
       "<div>\n",
       "<table border=\"1\" class=\"dataframe\">\n",
       "  <thead>\n",
       "    <tr style=\"text-align: right;\">\n",
       "      <th></th>\n",
       "      <th>delta %</th>\n",
       "    </tr>\n",
       "  </thead>\n",
       "  <tbody>\n",
       "    <tr>\n",
       "      <th>FS</th>\n",
       "      <td>-10.86</td>\n",
       "    </tr>\n",
       "    <tr>\n",
       "      <th>D1_MSN</th>\n",
       "      <td>2.15</td>\n",
       "    </tr>\n",
       "    <tr>\n",
       "      <th>D2_MSN</th>\n",
       "      <td>-1.92</td>\n",
       "    </tr>\n",
       "  </tbody>\n",
       "</table>\n",
       "</div>"
      ],
      "text/plain": [
       "        delta %\n",
       "FS       -10.86\n",
       "D1_MSN     2.15\n",
       "D2_MSN    -1.92"
      ]
     },
     "execution_count": 28,
     "metadata": {},
     "output_type": "execute_result"
    }
   ],
   "source": [
    "def sum_cells_mtype(cells, mtype):\n",
    "    ''' count the number of cells of a given mtype'''\n",
    "    return np.count_nonzero(cells.properties[cells.properties.mtype == mtype].mtype)\n",
    "\n",
    "\n",
    "def get_density_delta(ref_densities, cells, layer_volumes):\n",
    "    ''' get a panda dataframe for the density delta\n",
    "    between ref_densities and given cell collection\n",
    "    '''\n",
    "    density_delta = pd.DataFrame(columns=['delta %'])\n",
    "    for layer_name in ref_densities:\n",
    "        for mtype in ref_densities[layer_name]:\n",
    "            ref_density = ref_densities[layer_name][mtype]\n",
    "            nb_cells = sum_cells_mtype(cells, mtype)\n",
    "            model_density = float(nb_cells) / layer_volumes[layer_name]\n",
    "            ratio = ((model_density / ref_density) - 1.0) * 100\n",
    "            density_delta.loc[mtype] = round(ratio, 2)\n",
    "    return density_delta\n",
    "\n",
    "get_density_delta(density, new_cells, layer_volumes)"
   ]
  },
  {
   "cell_type": "code",
   "execution_count": 29,
   "metadata": {
    "collapsed": false
   },
   "outputs": [],
   "source": [
    "VoxcellWidget().show_property('mtype', new_cells, display_parameters={\"particle_size\": 1.5})"
   ]
  },
  {
   "cell_type": "markdown",
   "metadata": {
    "collapsed": true
   },
   "source": [
    "# morphology assignment"
   ]
  },
  {
   "cell_type": "markdown",
   "metadata": {},
   "source": [
    "for each mtype, morphology models are uniformly distributed."
   ]
  },
  {
   "cell_type": "markdown",
   "metadata": {},
   "source": [
    "need examples to be provided in https://collab.humanbrainproject.eu/#/collab/376/nav/3415\n",
    "please update it when the reconstructed morphologies will be available."
   ]
  },
  {
   "cell_type": "code",
   "execution_count": 30,
   "metadata": {
    "collapsed": true
   },
   "outputs": [],
   "source": [
    "morphology_models = {\n",
    "    \"D1_MSN\": [\"d1_example1\", \"d1_example2\"],\n",
    "    \"D2_MSN\": [\"d2_example1\", \"d2_example2\"],\n",
    "    \"FS\": [\"fs_example1\", \"fs_example2\"],\n",
    "}"
   ]
  },
  {
   "cell_type": "markdown",
   "metadata": {},
   "source": [
    "## traits"
   ]
  },
  {
   "cell_type": "code",
   "execution_count": 31,
   "metadata": {
    "collapsed": true
   },
   "outputs": [],
   "source": [
    "traits_morph = pd.DataFrame([[mtype, morph] for layer in density\n",
    "                             for mtype in density[layer]\n",
    "                             for morph in morphology_models[mtype]],\n",
    "                            columns=[\"mtype\", \"morph_name\"])"
   ]
  },
  {
   "cell_type": "code",
   "execution_count": 32,
   "metadata": {
    "collapsed": false
   },
   "outputs": [
    {
     "data": {
      "text/html": [
       "<div>\n",
       "<table border=\"1\" class=\"dataframe\">\n",
       "  <thead>\n",
       "    <tr style=\"text-align: right;\">\n",
       "      <th></th>\n",
       "      <th>mtype</th>\n",
       "      <th>morph_name</th>\n",
       "    </tr>\n",
       "  </thead>\n",
       "  <tbody>\n",
       "    <tr>\n",
       "      <th>0</th>\n",
       "      <td>FS</td>\n",
       "      <td>fs_example1</td>\n",
       "    </tr>\n",
       "    <tr>\n",
       "      <th>1</th>\n",
       "      <td>FS</td>\n",
       "      <td>fs_example2</td>\n",
       "    </tr>\n",
       "    <tr>\n",
       "      <th>2</th>\n",
       "      <td>D1_MSN</td>\n",
       "      <td>d1_example1</td>\n",
       "    </tr>\n",
       "    <tr>\n",
       "      <th>3</th>\n",
       "      <td>D1_MSN</td>\n",
       "      <td>d1_example2</td>\n",
       "    </tr>\n",
       "    <tr>\n",
       "      <th>4</th>\n",
       "      <td>D2_MSN</td>\n",
       "      <td>d2_example1</td>\n",
       "    </tr>\n",
       "    <tr>\n",
       "      <th>5</th>\n",
       "      <td>D2_MSN</td>\n",
       "      <td>d2_example2</td>\n",
       "    </tr>\n",
       "  </tbody>\n",
       "</table>\n",
       "</div>"
      ],
      "text/plain": [
       "    mtype   morph_name\n",
       "0      FS  fs_example1\n",
       "1      FS  fs_example2\n",
       "2  D1_MSN  d1_example1\n",
       "3  D1_MSN  d1_example2\n",
       "4  D2_MSN  d2_example1\n",
       "5  D2_MSN  d2_example2"
      ]
     },
     "execution_count": 32,
     "metadata": {},
     "output_type": "execute_result"
    }
   ],
   "source": [
    "traits_morph"
   ]
  },
  {
   "cell_type": "markdown",
   "metadata": {},
   "source": [
    "## distribution"
   ]
  },
  {
   "cell_type": "code",
   "execution_count": 33,
   "metadata": {
    "collapsed": false
   },
   "outputs": [],
   "source": [
    "dist_morphology = pd.DataFrame(data=0.0, index=traits_morph.index, columns=id_to_layer_name.keys())"
   ]
  },
  {
   "cell_type": "code",
   "execution_count": 34,
   "metadata": {
    "collapsed": true
   },
   "outputs": [],
   "source": [
    "from voxcell.traits import SpatialDistribution"
   ]
  },
  {
   "cell_type": "code",
   "execution_count": 35,
   "metadata": {
    "collapsed": false
   },
   "outputs": [
    {
     "data": {
      "text/html": [
       "<div>\n",
       "<table border=\"1\" class=\"dataframe\">\n",
       "  <thead>\n",
       "    <tr style=\"text-align: right;\">\n",
       "      <th></th>\n",
       "      <th>1</th>\n",
       "    </tr>\n",
       "  </thead>\n",
       "  <tbody>\n",
       "    <tr>\n",
       "      <th>0</th>\n",
       "      <td>0.166667</td>\n",
       "    </tr>\n",
       "    <tr>\n",
       "      <th>1</th>\n",
       "      <td>0.166667</td>\n",
       "    </tr>\n",
       "    <tr>\n",
       "      <th>2</th>\n",
       "      <td>0.166667</td>\n",
       "    </tr>\n",
       "    <tr>\n",
       "      <th>3</th>\n",
       "      <td>0.166667</td>\n",
       "    </tr>\n",
       "    <tr>\n",
       "      <th>4</th>\n",
       "      <td>0.166667</td>\n",
       "    </tr>\n",
       "    <tr>\n",
       "      <th>5</th>\n",
       "      <td>0.166667</td>\n",
       "    </tr>\n",
       "  </tbody>\n",
       "</table>\n",
       "</div>"
      ],
      "text/plain": [
       "          1\n",
       "0  0.166667\n",
       "1  0.166667\n",
       "2  0.166667\n",
       "3  0.166667\n",
       "4  0.166667\n",
       "5  0.166667"
      ]
     },
     "execution_count": 35,
     "metadata": {},
     "output_type": "execute_result"
    }
   ],
   "source": [
    "for layer in density:\n",
    "    for mtype in density[layer]:\n",
    "        for morph_name in morphology_models[mtype]:\n",
    "            d = traits_morph[(traits_morph.mtype == mtype) & (traits_morph.morph_name == morph_name)]\n",
    "            dist_morphology.loc[d.index, layer_name_to_id[layer]] = 1\n",
    "dist_morphology /= dist_morphology.sum()\n",
    "dist_morphology"
   ]
  },
  {
   "cell_type": "markdown",
   "metadata": {},
   "source": [
    "## spatial distribution"
   ]
  },
  {
   "cell_type": "code",
   "execution_count": 36,
   "metadata": {
    "collapsed": false
   },
   "outputs": [],
   "source": [
    "sd = SpatialDistribution(annotation, dist_morphology, traits_morph)"
   ]
  },
  {
   "cell_type": "code",
   "execution_count": 37,
   "metadata": {
    "collapsed": false
   },
   "outputs": [],
   "source": [
    "chosen_morph = sd.assign_conditional(new_cells.positions, property_mtype)"
   ]
  },
  {
   "cell_type": "code",
   "execution_count": 38,
   "metadata": {
    "collapsed": false
   },
   "outputs": [],
   "source": [
    "property_morph = sd.collect_traits(chosen_morph, ['morph_name'])"
   ]
  },
  {
   "cell_type": "code",
   "execution_count": 39,
   "metadata": {
    "collapsed": true
   },
   "outputs": [],
   "source": [
    "new_cells.add_properties(property_morph)"
   ]
  },
  {
   "cell_type": "markdown",
   "metadata": {},
   "source": [
    "perform instrinsic validations based on densities"
   ]
  },
  {
   "cell_type": "code",
   "execution_count": 40,
   "metadata": {
    "collapsed": false
   },
   "outputs": [
    {
     "data": {
      "text/html": [
       "<div>\n",
       "<table border=\"1\" class=\"dataframe\">\n",
       "  <thead>\n",
       "    <tr style=\"text-align: right;\">\n",
       "      <th></th>\n",
       "      <th>delta %</th>\n",
       "    </tr>\n",
       "  </thead>\n",
       "  <tbody>\n",
       "    <tr>\n",
       "      <th>FS</th>\n",
       "      <td>-10.86</td>\n",
       "    </tr>\n",
       "    <tr>\n",
       "      <th>D1_MSN</th>\n",
       "      <td>2.15</td>\n",
       "    </tr>\n",
       "    <tr>\n",
       "      <th>D2_MSN</th>\n",
       "      <td>-1.92</td>\n",
       "    </tr>\n",
       "  </tbody>\n",
       "</table>\n",
       "</div>"
      ],
      "text/plain": [
       "        delta %\n",
       "FS       -10.86\n",
       "D1_MSN     2.15\n",
       "D2_MSN    -1.92"
      ]
     },
     "execution_count": 40,
     "metadata": {},
     "output_type": "execute_result"
    }
   ],
   "source": [
    "get_density_delta(density, new_cells, layer_volumes)"
   ]
  },
  {
   "cell_type": "code",
   "execution_count": 41,
   "metadata": {
    "collapsed": false
   },
   "outputs": [],
   "source": [
    "VoxcellWidget().show_property('morph_name', new_cells, display_parameters={\"particle_size\": 1.5})"
   ]
  },
  {
   "cell_type": "markdown",
   "metadata": {},
   "source": [
    "# orientation assignment (WIP)"
   ]
  },
  {
   "cell_type": "code",
   "execution_count": 42,
   "metadata": {
    "collapsed": true
   },
   "outputs": [],
   "source": [
    "from voxcell import vector_fields as vf"
   ]
  },
  {
   "cell_type": "code",
   "execution_count": 43,
   "metadata": {
    "collapsed": false
   },
   "outputs": [],
   "source": [
    "v_right = vf.generate_homogeneous_field(np.ones(annotation.raw.shape, dtype=np.bool),\n",
    "                                        np.array([1, 0, 0]))"
   ]
  },
  {
   "cell_type": "code",
   "execution_count": 44,
   "metadata": {
    "collapsed": false
   },
   "outputs": [],
   "source": [
    "v_up = vf.generate_homogeneous_field(np.ones(annotation.raw.shape, dtype=np.bool),\n",
    "                                     np.array([0, 1, 0]))"
   ]
  },
  {
   "cell_type": "code",
   "execution_count": 45,
   "metadata": {
    "collapsed": true
   },
   "outputs": [],
   "source": [
    "v_fwd = vf.generate_homogeneous_field(np.ones(annotation.raw.shape, dtype=np.bool),\n",
    "                                      np.array([0, 0, 1]))"
   ]
  },
  {
   "cell_type": "code",
   "execution_count": 46,
   "metadata": {
    "collapsed": true
   },
   "outputs": [],
   "source": [
    "fields = vf.combine_vector_fields([v_right, v_up, v_fwd])"
   ]
  },
  {
   "cell_type": "code",
   "execution_count": 47,
   "metadata": {
    "collapsed": false
   },
   "outputs": [],
   "source": [
    "orientation_field = VoxelData(fields, annotation.voxel_dimensions, annotation.offset)"
   ]
  },
  {
   "cell_type": "code",
   "execution_count": 48,
   "metadata": {
    "collapsed": false
   },
   "outputs": [
    {
     "data": {
      "text/plain": [
       "(100, 100, 100, 3, 3)"
      ]
     },
     "execution_count": 48,
     "metadata": {},
     "output_type": "execute_result"
    }
   ],
   "source": [
    "orientation_field.raw.shape"
   ]
  },
  {
   "cell_type": "code",
   "execution_count": 49,
   "metadata": {
    "collapsed": true
   },
   "outputs": [],
   "source": [
    "sub_fields = vf.split_orientation_field(orientation_field.raw)\n",
    "VoxcellWidget().show_vectors('Z', sub_fields[2], 5000, orientation_field.voxel_dimensions)"
   ]
  },
  {
   "cell_type": "code",
   "execution_count": 50,
   "metadata": {
    "collapsed": true
   },
   "outputs": [],
   "source": [
    "VoxcellWidget().show_vectors('Y', sub_fields[1], 5000, orientation_field.voxel_dimensions)"
   ]
  },
  {
   "cell_type": "code",
   "execution_count": 51,
   "metadata": {
    "collapsed": false
   },
   "outputs": [],
   "source": [
    "VoxcellWidget().show_vectors('X', sub_fields[0], 5000, orientation_field.voxel_dimensions)"
   ]
  },
  {
   "cell_type": "code",
   "execution_count": null,
   "metadata": {
    "collapsed": true
   },
   "outputs": [],
   "source": []
  }
 ],
 "metadata": {
  "kernelspec": {
   "display_name": "Python 2",
   "language": "python",
   "name": "python2"
  },
  "language_info": {
   "codemirror_mode": {
    "name": "ipython",
    "version": 2
   },
   "file_extension": ".py",
   "mimetype": "text/x-python",
   "name": "python",
   "nbconvert_exporter": "python",
   "pygments_lexer": "ipython2",
   "version": "2.7.6"
  }
 },
 "nbformat": 4,
 "nbformat_minor": 0
}
