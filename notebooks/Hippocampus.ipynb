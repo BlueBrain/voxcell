{
 "cells": [
  {
   "cell_type": "code",
   "execution_count": 1,
   "metadata": {
    "collapsed": false
   },
   "outputs": [],
   "source": [
    "from IPython.display import display\n",
    "from notebook_viewer import NotebookViewer\n",
    "notebook = NotebookViewer()"
   ]
  },
  {
   "cell_type": "code",
   "execution_count": 2,
   "metadata": {
    "collapsed": true
   },
   "outputs": [],
   "source": [
    "from brainbuilder.utils.core import CellCollection, VoxelData, Hierarchy\n",
    "from brainbuilder.utils import bbp, build, math\n",
    "import numpy as np\n",
    "\n",
    "cells = CellCollection()"
   ]
  },
  {
   "cell_type": "markdown",
   "metadata": {},
   "source": [
    "# Brain Builder modules"
   ]
  },
  {
   "cell_type": "markdown",
   "metadata": {},
   "source": [
    "## Region Select"
   ]
  },
  {
   "cell_type": "code",
   "execution_count": 3,
   "metadata": {
    "collapsed": true
   },
   "outputs": [],
   "source": [
    "from brainbuilder.select_region import select_hemisphere"
   ]
  },
  {
   "cell_type": "code",
   "execution_count": 4,
   "metadata": {
    "collapsed": true
   },
   "outputs": [],
   "source": [
    "hierarchy = Hierarchy.load(\"../data/P56_Mouse_annotation/annotation_hierarchy.json\")"
   ]
  },
  {
   "cell_type": "code",
   "execution_count": 5,
   "metadata": {
    "collapsed": false
   },
   "outputs": [
    {
     "name": "stdout",
     "output_type": "stream",
     "text": [
      "Building: Field CA1\n"
     ]
    }
   ],
   "source": [
    "region_name = hierarchy.find('acronym', 'CA1')[0].data['name']\n",
    "print 'Building:', region_name"
   ]
  },
  {
   "cell_type": "code",
   "execution_count": 6,
   "metadata": {
    "collapsed": false
   },
   "outputs": [],
   "source": [
    "annotation = VoxelData.load_metaio(\"../data/P56_Mouse_annotation/annotation.mhd\")\n",
    "\n",
    "hippo_mask = build.mask_by_region_ids(annotation.raw, hierarchy.collect('name', region_name, 'id'))\n",
    "aabb = math.minimum_aabb(hippo_mask)\n",
    "\n",
    "hippo_mask = math.clip(hippo_mask, aabb)\n",
    "annotation = annotation.clipped(aabb)"
   ]
  },
  {
   "cell_type": "code",
   "execution_count": 7,
   "metadata": {
    "collapsed": true
   },
   "outputs": [],
   "source": [
    "region_layers_map = {\n",
    "    'hippocampal fissure': 1,\n",
    "    'Field CA1, stratum lacunosum-moleculare': 2,\n",
    "    'Field CA1, stratum radiatum': 3,\n",
    "    'Field CA1, pyramidal layer': 4,\n",
    "    'Field CA1, stratum oriens': 5,\n",
    "    'alveus': 6\n",
    "}\n",
    "\n",
    "region_layers_map = dict((hierarchy.find('name', name)[0].data['id'], (layerid,))\n",
    "                         for name, layerid in region_layers_map.iteritems())"
   ]
  },
  {
   "cell_type": "code",
   "execution_count": 8,
   "metadata": {
    "collapsed": false
   },
   "outputs": [
    {
     "name": "stderr",
     "output_type": "stream",
     "text": [
      "WARNING:brainbuilder.utils.bbp:No voxels tagged for layer 1\n",
      "WARNING:brainbuilder.utils.bbp:No voxels tagged for layer 6\n"
     ]
    }
   ],
   "source": [
    "recipe_filename = \"../data/hippo_recipe/builderRecipeAllPathways.xml\"\n",
    "\n",
    "density = bbp.load_recipe_density(recipe_filename, annotation, region_layers_map)\n",
    "\n",
    "density.raw = select_hemisphere(density.raw)"
   ]
  },
  {
   "cell_type": "code",
   "execution_count": 9,
   "metadata": {
    "collapsed": false
   },
   "outputs": [
    {
     "data": {
      "text/html": [
       "<iframe src=\"../../static/index.html#out/density.mhd\" scrolling=\"no\" width=\"700\" height=\"350\" allowfullscreen></iframe>\n"
      ],
      "text/plain": [
       "<IPython.core.display.HTML object>"
      ]
     },
     "metadata": {},
     "output_type": "display_data"
    }
   ],
   "source": [
    "notebook.show_volume('density', density)"
   ]
  },
  {
   "cell_type": "markdown",
   "metadata": {},
   "source": [
    "## Positions"
   ]
  },
  {
   "cell_type": "code",
   "execution_count": 10,
   "metadata": {
    "collapsed": true
   },
   "outputs": [],
   "source": [
    "from brainbuilder.cell_positioning import cell_positioning"
   ]
  },
  {
   "cell_type": "code",
   "execution_count": 11,
   "metadata": {
    "collapsed": false
   },
   "outputs": [],
   "source": [
    "total_cell_count = 350000"
   ]
  },
  {
   "cell_type": "code",
   "execution_count": 12,
   "metadata": {
    "collapsed": false
   },
   "outputs": [],
   "source": [
    "cells.positions = cell_positioning(density, total_cell_count)"
   ]
  },
  {
   "cell_type": "code",
   "execution_count": 13,
   "metadata": {
    "collapsed": false
   },
   "outputs": [
    {
     "data": {
      "text/html": [
       "<iframe src=\"../../static/index.html#out/position.pts\" scrolling=\"no\" width=\"700\" height=\"350\" allowfullscreen></iframe>\n"
      ],
      "text/plain": [
       "<IPython.core.display.HTML object>"
      ]
     },
     "metadata": {},
     "output_type": "display_data"
    }
   ],
   "source": [
    "notebook.show_points('position', cells)"
   ]
  },
  {
   "cell_type": "markdown",
   "metadata": {},
   "source": [
    "## Build.EI:  E-I ratios"
   ]
  },
  {
   "cell_type": "code",
   "execution_count": 14,
   "metadata": {
    "collapsed": true
   },
   "outputs": [],
   "source": [
    "from brainbuilder.assignment_synapse_class import assign_synapse_class_from_spatial_dist"
   ]
  },
  {
   "cell_type": "markdown",
   "metadata": {},
   "source": [
    "### input parameters"
   ]
  },
  {
   "cell_type": "code",
   "execution_count": 15,
   "metadata": {
    "collapsed": false
   },
   "outputs": [],
   "source": [
    "recipe_filename = \"../data/hippo_recipe/builderRecipeAllPathways.xml\"\n",
    "recipe_data = bbp.load_recipe(recipe_filename)"
   ]
  },
  {
   "cell_type": "code",
   "execution_count": 16,
   "metadata": {
    "collapsed": false
   },
   "outputs": [],
   "source": [
    "recipe_sdist = bbp.transform_recipe_into_spatial_distribution(annotation, recipe_data, region_layers_map)"
   ]
  },
  {
   "cell_type": "markdown",
   "metadata": {},
   "source": [
    "### run module"
   ]
  },
  {
   "cell_type": "code",
   "execution_count": 17,
   "metadata": {
    "collapsed": false
   },
   "outputs": [],
   "source": [
    "chosen_synapse_class = assign_synapse_class_from_spatial_dist(cells.positions, recipe_sdist)\n",
    "cells.add_properties(chosen_synapse_class)"
   ]
  },
  {
   "cell_type": "code",
   "execution_count": 18,
   "metadata": {
    "collapsed": false
   },
   "outputs": [
    {
     "data": {
      "text/html": [
       "<iframe src=\"../../static/index.html#out/synapse_class.pts\" scrolling=\"no\" width=\"700\" height=\"350\" allowfullscreen></iframe>\n"
      ],
      "text/plain": [
       "<IPython.core.display.HTML object>"
      ]
     },
     "metadata": {},
     "output_type": "display_data"
    }
   ],
   "source": [
    "notebook.show_property('synapse_class', cells)"
   ]
  },
  {
   "cell_type": "code",
   "execution_count": 19,
   "metadata": {
    "collapsed": false
   },
   "outputs": [
    {
     "name": "stdout",
     "output_type": "stream",
     "text": [
      "excitatory  total: 318646  percentage: 91.04%\n",
      "inhibitory  total: 31354  percentage: 8.96%\n"
     ]
    }
   ],
   "source": [
    "import numpy as np\n",
    "vals, nums = np.unique(cells.properties.synapse_class, return_counts=True)\n",
    "print '\\n'.join('%s  total: %d  percentage: %.2f%%' % (n, t, p * 100)\n",
    "                for n, t, p in zip(vals, nums, nums.astype(np.float) / total_cell_count))"
   ]
  },
  {
   "cell_type": "markdown",
   "metadata": {},
   "source": [
    "## Build.Composition.ME: METype for Soma"
   ]
  },
  {
   "cell_type": "code",
   "execution_count": 20,
   "metadata": {
    "collapsed": true
   },
   "outputs": [],
   "source": [
    "from brainbuilder.assignment_metype import assign_metype"
   ]
  },
  {
   "cell_type": "markdown",
   "metadata": {},
   "source": [
    "#### mtypes"
   ]
  },
  {
   "cell_type": "code",
   "execution_count": 21,
   "metadata": {
    "collapsed": false
   },
   "outputs": [],
   "source": [
    "chosen_me = assign_metype(cells.positions, cells.properties.synapse_class, recipe_sdist)\n",
    "cells.add_properties(chosen_me)"
   ]
  },
  {
   "cell_type": "markdown",
   "metadata": {},
   "source": [
    "#### mtypes"
   ]
  },
  {
   "cell_type": "code",
   "execution_count": 22,
   "metadata": {
    "collapsed": false
   },
   "outputs": [
    {
     "data": {
      "text/html": [
       "<iframe src=\"../../static/index.html#out/mtype.pts\" scrolling=\"no\" width=\"700\" height=\"350\" allowfullscreen></iframe>\n"
      ],
      "text/plain": [
       "<IPython.core.display.HTML object>"
      ]
     },
     "metadata": {},
     "output_type": "display_data"
    }
   ],
   "source": [
    "notebook.show_property('mtype', cells)"
   ]
  },
  {
   "cell_type": "markdown",
   "metadata": {},
   "source": [
    "#### etypes"
   ]
  },
  {
   "cell_type": "code",
   "execution_count": 23,
   "metadata": {
    "collapsed": false
   },
   "outputs": [
    {
     "data": {
      "text/html": [
       "<iframe src=\"../../static/index.html#out/etype.pts\" scrolling=\"no\" width=\"700\" height=\"350\" allowfullscreen></iframe>\n"
      ],
      "text/plain": [
       "<IPython.core.display.HTML object>"
      ]
     },
     "metadata": {},
     "output_type": "display_data"
    }
   ],
   "source": [
    "notebook.show_property('etype', cells)"
   ]
  },
  {
   "cell_type": "markdown",
   "metadata": {},
   "source": [
    "## Build.Placement: Morphology assignment"
   ]
  },
  {
   "cell_type": "code",
   "execution_count": 24,
   "metadata": {
    "collapsed": true
   },
   "outputs": [],
   "source": [
    "from brainbuilder.assignment_morphology import assign_morphology\n",
    "from scipy.ndimage import distance_transform_edt"
   ]
  },
  {
   "cell_type": "markdown",
   "metadata": {},
   "source": [
    "### input parameters"
   ]
  },
  {
   "cell_type": "code",
   "execution_count": 25,
   "metadata": {
    "collapsed": false
   },
   "outputs": [],
   "source": [
    "neurondb_filename = \"../data/hippo_recipe/v4neuronDB.dat\"\n",
    "neurondb = bbp.load_neurondb_v4(neurondb_filename)\n",
    "\n",
    "# \"outside\"  is tagged in the annotation_raw with 0\n",
    "# This will calculate, for every voxel, the euclidean distance to\n",
    "# the nearest voxel tagged as \"outside\" the brain\n",
    "# TODO use something else for hippocampus\n",
    "distance_to_pia = distance_transform_edt(hippo_mask)"
   ]
  },
  {
   "cell_type": "code",
   "execution_count": 26,
   "metadata": {
    "collapsed": false
   },
   "outputs": [
    {
     "name": "stderr",
     "output_type": "stream",
     "text": [
      "WARNING:brainbuilder.utils.bbp:Layer 1 from region-layer map not found in neurondb\n",
      "WARNING:brainbuilder.utils.bbp:Layer 6 from region-layer map not found in neurondb\n"
     ]
    }
   ],
   "source": [
    "neuron_sdist = bbp.transform_neurondb_into_spatial_distribution(annotation,\n",
    "                                                                 neurondb,\n",
    "                                                                 region_layers_map,\n",
    "                                                                 distance_to_pia,\n",
    "                                                                 percentile=0.92)"
   ]
  },
  {
   "cell_type": "markdown",
   "metadata": {},
   "source": [
    "### run module"
   ]
  },
  {
   "cell_type": "code",
   "execution_count": 27,
   "metadata": {
    "collapsed": false
   },
   "outputs": [],
   "source": [
    "chosen_morphology = assign_morphology(cells.positions, cells.properties[['mtype', 'etype']], neuron_sdist)\n",
    "cells.add_properties(chosen_morphology)"
   ]
  },
  {
   "cell_type": "markdown",
   "metadata": {},
   "source": [
    "### output"
   ]
  },
  {
   "cell_type": "code",
   "execution_count": 28,
   "metadata": {
    "collapsed": false
   },
   "outputs": [
    {
     "data": {
      "text/html": [
       "<iframe src=\"../../static/index.html#out/morphology.pts\" scrolling=\"no\" width=\"700\" height=\"350\" allowfullscreen></iframe>\n"
      ],
      "text/plain": [
       "<IPython.core.display.HTML object>"
      ]
     },
     "metadata": {},
     "output_type": "display_data"
    }
   ],
   "source": [
    "notebook.show_property('morphology', cells)"
   ]
  },
  {
   "cell_type": "markdown",
   "metadata": {},
   "source": [
    "## Orientation assignment"
   ]
  },
  {
   "cell_type": "markdown",
   "metadata": {},
   "source": [
    "### input"
   ]
  },
  {
   "cell_type": "code",
   "execution_count": 29,
   "metadata": {
    "collapsed": false
   },
   "outputs": [
    {
     "name": "stderr",
     "output_type": "stream",
     "text": [
      "WARNING:brainbuilder.utils.vector_fields:409542 voxels overlap will be overwritten\n"
     ]
    }
   ],
   "source": [
    "from brainbuilder.orientation_field_hippo import compute_orientation_field\n",
    "\n",
    "orientation_field = compute_orientation_field(annotation, hierarchy, 'Field CA1')"
   ]
  },
  {
   "cell_type": "code",
   "execution_count": 30,
   "metadata": {
    "collapsed": false
   },
   "outputs": [
    {
     "data": {
      "text/html": [
       "<iframe src=\"../../static/index.html#out/Z.vcf\" scrolling=\"no\" width=\"700\" height=\"350\" allowfullscreen></iframe>\n"
      ],
      "text/plain": [
       "<IPython.core.display.HTML object>"
      ]
     },
     "metadata": {},
     "output_type": "display_data"
    },
    {
     "data": {
      "text/html": [
       "<iframe src=\"../../static/index.html#out/Y.vcf\" scrolling=\"no\" width=\"700\" height=\"350\" allowfullscreen></iframe>\n"
      ],
      "text/plain": [
       "<IPython.core.display.HTML object>"
      ]
     },
     "metadata": {},
     "output_type": "display_data"
    },
    {
     "data": {
      "text/html": [
       "<iframe src=\"../../static/index.html#out/X.vcf\" scrolling=\"no\" width=\"700\" height=\"350\" allowfullscreen></iframe>\n"
      ],
      "text/plain": [
       "<IPython.core.display.HTML object>"
      ]
     },
     "metadata": {},
     "output_type": "display_data"
    }
   ],
   "source": [
    "from brainbuilder.utils import vector_fields as vf\n",
    "\n",
    "sub_fields = vf.split_orientation_field(orientation_field.raw)\n",
    "notebook.show_vectors('Z', select_hemisphere(sub_fields[2]), 5000, orientation_field.voxel_dimensions)\n",
    "notebook.show_vectors('Y', select_hemisphere(sub_fields[1]), 5000, orientation_field.voxel_dimensions)\n",
    "notebook.show_vectors('X', select_hemisphere(sub_fields[0]), 5000, orientation_field.voxel_dimensions)"
   ]
  },
  {
   "cell_type": "markdown",
   "metadata": {},
   "source": [
    "### run module"
   ]
  },
  {
   "cell_type": "code",
   "execution_count": 31,
   "metadata": {
    "collapsed": false
   },
   "outputs": [],
   "source": [
    "from brainbuilder.assignment_orientation import assign_orientations\n",
    "\n",
    "cells.orientations = assign_orientations(cells.positions, orientation_field)"
   ]
  },
  {
   "cell_type": "markdown",
   "metadata": {},
   "source": [
    "### output"
   ]
  },
  {
   "cell_type": "code",
   "execution_count": 32,
   "metadata": {
    "collapsed": false,
    "scrolled": true
   },
   "outputs": [],
   "source": [
    "# notebook.show_placement('placement', cells)"
   ]
  }
 ],
 "metadata": {
  "kernelspec": {
   "display_name": "Python 2",
   "language": "python",
   "name": "python2"
  },
  "language_info": {
   "codemirror_mode": {
    "name": "ipython",
    "version": 2
   },
   "file_extension": ".py",
   "mimetype": "text/x-python",
   "name": "python",
   "nbconvert_exporter": "python",
   "pygments_lexer": "ipython2",
   "version": "2.7.10"
  }
 },
 "nbformat": 4,
 "nbformat_minor": 0
}
