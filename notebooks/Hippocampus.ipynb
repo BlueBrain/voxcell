{
 "cells": [
  {
   "cell_type": "code",
   "execution_count": null,
   "metadata": {
    "collapsed": false
   },
   "outputs": [],
   "source": [
    "from voxcell.core import CellCollection, VoxelData, Hierarchy\n",
    "from voxcell import build, math\n",
    "from voxcellview.widget import VoxcellWidget\n",
    "from brainbuilder.utils import bbp\n",
    "import numpy as np\n",
    "\n",
    "cells = CellCollection()\n"
   ]
  },
  {
   "cell_type": "markdown",
   "metadata": {},
   "source": [
    "# Brain Builder modules"
   ]
  },
  {
   "cell_type": "markdown",
   "metadata": {},
   "source": [
    "## Region Select"
   ]
  },
  {
   "cell_type": "code",
   "execution_count": null,
   "metadata": {
    "collapsed": false
   },
   "outputs": [],
   "source": [
    "from brainbuilder.select_region import select_hemisphere"
   ]
  },
  {
   "cell_type": "code",
   "execution_count": null,
   "metadata": {
    "collapsed": false
   },
   "outputs": [],
   "source": [
    "hierarchy = Hierarchy.load(\"../data/P56_Mouse_annotation/annotation_hierarchy.json\")"
   ]
  },
  {
   "cell_type": "code",
   "execution_count": null,
   "metadata": {
    "collapsed": false
   },
   "outputs": [],
   "source": [
    "region_name = hierarchy.find('acronym', 'CA1')[0].data['name']\n",
    "print 'Building:', region_name"
   ]
  },
  {
   "cell_type": "code",
   "execution_count": null,
   "metadata": {
    "collapsed": false
   },
   "outputs": [],
   "source": [
    "annotation = VoxelData.load_metaio(\"../data/P56_Mouse_annotation/annotation.mhd\")\n",
    "\n",
    "hippo_mask = build.mask_by_region_ids(annotation.raw, hierarchy.collect('name', region_name, 'id'))\n",
    "aabb = math.minimum_aabb(hippo_mask)\n",
    "\n",
    "hippo_mask = math.clip(hippo_mask, aabb)\n",
    "annotation = annotation.clipped(aabb)"
   ]
  },
  {
   "cell_type": "code",
   "execution_count": null,
   "metadata": {
    "collapsed": false
   },
   "outputs": [],
   "source": [
    "region_layers_map = {\n",
    "    'hippocampal fissure': 1,\n",
    "    'Field CA1, stratum lacunosum-moleculare': 2,\n",
    "    'Field CA1, stratum radiatum': 3,\n",
    "    'Field CA1, pyramidal layer': 4,\n",
    "    'Field CA1, stratum oriens': 5,\n",
    "    'alveus': 6\n",
    "}\n",
    "\n",
    "region_layers_map = dict((hierarchy.find('name', name)[0].data['id'], (layerid,))\n",
    "                         for name, layerid in region_layers_map.iteritems())"
   ]
  },
  {
   "cell_type": "code",
   "execution_count": null,
   "metadata": {
    "collapsed": false
   },
   "outputs": [],
   "source": [
    "recipe_filename = \"../data/hippo_recipe/builderRecipeAllPathways.xml\"\n",
    "\n",
    "density = bbp.load_recipe_density(recipe_filename, annotation, region_layers_map)\n",
    "\n",
    "density.raw = select_hemisphere(density.raw)"
   ]
  },
  {
   "cell_type": "code",
   "execution_count": null,
   "metadata": {
    "collapsed": false
   },
   "outputs": [],
   "source": [
    "VoxcellWidget().show_volume('density', density)"
   ]
  },
  {
   "cell_type": "markdown",
   "metadata": {},
   "source": [
    "## Positions"
   ]
  },
  {
   "cell_type": "code",
   "execution_count": null,
   "metadata": {
    "collapsed": false
   },
   "outputs": [],
   "source": [
    "from brainbuilder.cell_positioning import cell_positioning"
   ]
  },
  {
   "cell_type": "code",
   "execution_count": null,
   "metadata": {
    "collapsed": false
   },
   "outputs": [],
   "source": [
    "total_cell_count = 350000"
   ]
  },
  {
   "cell_type": "code",
   "execution_count": null,
   "metadata": {
    "collapsed": false
   },
   "outputs": [],
   "source": [
    "cells.positions = cell_positioning(density, total_cell_count)"
   ]
  },
  {
   "cell_type": "code",
   "execution_count": null,
   "metadata": {
    "collapsed": false
   },
   "outputs": [],
   "source": [
    "from voxcellview.widget import VoxcellWidget"
   ]
  },
  {
   "cell_type": "code",
   "execution_count": null,
   "metadata": {
    "collapsed": false
   },
   "outputs": [],
   "source": [
    "widget = VoxcellWidget()"
   ]
  },
  {
   "cell_type": "code",
   "execution_count": null,
   "metadata": {
    "collapsed": false
   },
   "outputs": [],
   "source": [
    "VoxcellWidget().show_points('position', cells)"
   ]
  },
  {
   "cell_type": "markdown",
   "metadata": {
    "collapsed": false
   },
   "source": [
    "## widget.show_points('position', cells)"
   ]
  },
  {
   "cell_type": "markdown",
   "metadata": {},
   "source": [
    "## Build.EI:  E-I ratios"
   ]
  },
  {
   "cell_type": "code",
   "execution_count": null,
   "metadata": {
    "collapsed": false
   },
   "outputs": [],
   "source": [
    "from brainbuilder.assignment_synapse_class import assign_synapse_class_from_spatial_dist"
   ]
  },
  {
   "cell_type": "markdown",
   "metadata": {},
   "source": [
    "### input parameters"
   ]
  },
  {
   "cell_type": "code",
   "execution_count": null,
   "metadata": {
    "collapsed": false
   },
   "outputs": [],
   "source": [
    "recipe_filename = \"../data/hippo_recipe/builderRecipeAllPathways.xml\"\n",
    "recipe_data = bbp.get_distribution_from_recipe(recipe_filename)"
   ]
  },
  {
   "cell_type": "code",
   "execution_count": null,
   "metadata": {
    "collapsed": false
   },
   "outputs": [],
   "source": [
    "recipe_sdist = bbp.transform_recipe_into_spatial_distribution(annotation, recipe_data, region_layers_map)"
   ]
  },
  {
   "cell_type": "markdown",
   "metadata": {},
   "source": [
    "### run module"
   ]
  },
  {
   "cell_type": "code",
   "execution_count": null,
   "metadata": {
    "collapsed": false
   },
   "outputs": [],
   "source": [
    "chosen_synapse_class = assign_synapse_class_from_spatial_dist(cells.positions, recipe_sdist)\n",
    "cells.add_properties(chosen_synapse_class)"
   ]
  },
  {
   "cell_type": "code",
   "execution_count": null,
   "metadata": {
    "collapsed": false
   },
   "outputs": [],
   "source": [
    "VoxcellWidget().show_property('synapse_class', cells)"
   ]
  },
  {
   "cell_type": "code",
   "execution_count": null,
   "metadata": {
    "collapsed": false
   },
   "outputs": [],
   "source": [
    "import numpy as np\n",
    "vals, nums = np.unique(cells.properties.synapse_class, return_counts=True)\n",
    "print '\\n'.join('%s  total: %d  percentage: %.2f%%' % (n, t, p * 100)\n",
    "                for n, t, p in zip(vals, nums, nums.astype(np.float) / total_cell_count))"
   ]
  },
  {
   "cell_type": "markdown",
   "metadata": {},
   "source": [
    "## Build.Composition.ME: METype for Soma"
   ]
  },
  {
   "cell_type": "code",
   "execution_count": null,
   "metadata": {
    "collapsed": false
   },
   "outputs": [],
   "source": [
    "from brainbuilder.assignment_metype import assign_metype"
   ]
  },
  {
   "cell_type": "markdown",
   "metadata": {},
   "source": [
    "#### mtypes"
   ]
  },
  {
   "cell_type": "code",
   "execution_count": null,
   "metadata": {
    "collapsed": false
   },
   "outputs": [],
   "source": [
    "chosen_me = assign_metype(cells.positions, cells.properties.synapse_class, recipe_sdist)\n",
    "cells.add_properties(chosen_me)"
   ]
  },
  {
   "cell_type": "markdown",
   "metadata": {},
   "source": [
    "#### mtypes"
   ]
  },
  {
   "cell_type": "code",
   "execution_count": null,
   "metadata": {
    "collapsed": false
   },
   "outputs": [],
   "source": [
    "VoxcellWidget().show_property('mtype', cells)"
   ]
  },
  {
   "cell_type": "markdown",
   "metadata": {},
   "source": [
    "#### etypes"
   ]
  },
  {
   "cell_type": "code",
   "execution_count": null,
   "metadata": {
    "collapsed": false
   },
   "outputs": [],
   "source": [
    "VoxcellWidget().show_property('etype', cells)"
   ]
  },
  {
   "cell_type": "markdown",
   "metadata": {},
   "source": [
    "## Build.Placement: Morphology assignment"
   ]
  },
  {
   "cell_type": "code",
   "execution_count": null,
   "metadata": {
    "collapsed": false
   },
   "outputs": [],
   "source": [
    "from brainbuilder.assignment_morphology import assign_morphology\n",
    "from scipy.ndimage import distance_transform_edt"
   ]
  },
  {
   "cell_type": "markdown",
   "metadata": {},
   "source": [
    "### input parameters"
   ]
  },
  {
   "cell_type": "code",
   "execution_count": null,
   "metadata": {
    "collapsed": false
   },
   "outputs": [],
   "source": [
    "neurondb_filename = \"../data/hippo_recipe/v4neuronDB.dat\"\n",
    "neurondb = bbp.load_neurondb_v4(neurondb_filename)\n",
    "\n",
    "# \"outside\"  is tagged in the annotation_raw with 0\n",
    "# This will calculate, for every voxel, the euclidean distance to\n",
    "# the nearest voxel tagged as \"outside\" the brain\n",
    "# TODO use something else for hippocampus\n",
    "distance_to_pia = distance_transform_edt(hippo_mask)"
   ]
  },
  {
   "cell_type": "code",
   "execution_count": null,
   "metadata": {
    "collapsed": false
   },
   "outputs": [],
   "source": [
    "neuron_sdist = bbp.transform_neurondb_into_spatial_distribution(annotation,\n",
    "                                                                 neurondb,\n",
    "                                                                 region_layers_map,\n",
    "                                                                 distance_to_pia,\n",
    "                                                                 percentile=0.92)"
   ]
  },
  {
   "cell_type": "markdown",
   "metadata": {},
   "source": [
    "### run module"
   ]
  },
  {
   "cell_type": "code",
   "execution_count": null,
   "metadata": {
    "collapsed": false
   },
   "outputs": [],
   "source": [
    "chosen_morphology = assign_morphology(cells.positions, cells.properties[['mtype', 'etype']], neuron_sdist)\n",
    "cells.add_properties(chosen_morphology)"
   ]
  },
  {
   "cell_type": "markdown",
   "metadata": {},
   "source": [
    "### output"
   ]
  },
  {
   "cell_type": "code",
   "execution_count": null,
   "metadata": {
    "collapsed": false
   },
   "outputs": [],
   "source": [
    "VoxcellWidget().show_property('morphology', cells)"
   ]
  },
  {
   "cell_type": "markdown",
   "metadata": {},
   "source": [
    "## Orientation assignment"
   ]
  },
  {
   "cell_type": "markdown",
   "metadata": {},
   "source": [
    "### input"
   ]
  },
  {
   "cell_type": "code",
   "execution_count": null,
   "metadata": {
    "collapsed": false
   },
   "outputs": [],
   "source": [
    "from brainbuilder.orientation_field_hippo import compute_orientation_field\n",
    "\n",
    "orientation_field = compute_orientation_field(annotation, hierarchy, 'Field CA1')"
   ]
  },
  {
   "cell_type": "code",
   "execution_count": null,
   "metadata": {
    "collapsed": false
   },
   "outputs": [],
   "source": [
    "from voxcell import vector_fields as vf\n",
    "\n",
    "sub_fields = vf.split_orientation_field(orientation_field.raw)\n",
    "VoxcellWidget().show_vectors('Z', select_hemisphere(sub_fields[2]), 5000, orientation_field.voxel_dimensions)"
   ]
  },
  {
   "cell_type": "code",
   "execution_count": null,
   "metadata": {
    "collapsed": false
   },
   "outputs": [],
   "source": [
    "VoxcellWidget().show_vectors('Y', select_hemisphere(sub_fields[1]), 5000, orientation_field.voxel_dimensions)"
   ]
  },
  {
   "cell_type": "code",
   "execution_count": null,
   "metadata": {
    "collapsed": false
   },
   "outputs": [],
   "source": [
    "VoxcellWidget().show_vectors('X', select_hemisphere(sub_fields[0]), 5000, orientation_field.voxel_dimensions)"
   ]
  },
  {
   "cell_type": "markdown",
   "metadata": {},
   "source": [
    "### run module"
   ]
  },
  {
   "cell_type": "code",
   "execution_count": null,
   "metadata": {
    "collapsed": false
   },
   "outputs": [],
   "source": [
    "from brainbuilder.assignment_orientation import assign_orientations\n",
    "\n",
    "cells.orientations = assign_orientations(cells.positions, orientation_field)"
   ]
  },
  {
   "cell_type": "markdown",
   "metadata": {},
   "source": [
    "### output"
   ]
  },
  {
   "cell_type": "code",
   "execution_count": null,
   "metadata": {
    "collapsed": false,
    "scrolled": false
   },
   "outputs": [],
   "source": [
    "# notebook.show_placement('placement', cells)"
   ]
  }
 ],
 "metadata": {
  "kernelspec": {
   "display_name": "Python 2",
   "language": "python",
   "name": "python2"
  },
  "language_info": {
   "codemirror_mode": {
    "name": "ipython",
    "version": 2
   },
   "file_extension": ".py",
   "mimetype": "text/x-python",
   "name": "python",
   "nbconvert_exporter": "python",
   "pygments_lexer": "ipython2",
   "version": "2.7.6"
  }
 },
 "nbformat": 4,
 "nbformat_minor": 0
}
