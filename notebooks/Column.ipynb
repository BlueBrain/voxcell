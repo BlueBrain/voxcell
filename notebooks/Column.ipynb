{
 "cells": [
  {
   "cell_type": "markdown",
   "metadata": {},
   "source": [
    "# BrainBuilder Column\n",
    "This notebook builds a microcircuit using the brainbuilder library and some custom-built atlases to match the existing BBP model."
   ]
  },
  {
   "cell_type": "code",
   "execution_count": null,
   "metadata": {
    "collapsed": false
   },
   "outputs": [],
   "source": [
    "from voxcell.core import CellCollection, VoxelData, Hierarchy\n",
    "from voxcell import build, math\n",
    "from brainbuilder.utils import bbp\n",
    "from voxcellview.widget import VoxcellWidget\n",
    "\n",
    "%matplotlib inline\n",
    "from matplotlib import pyplot as plt\n",
    "import numpy as np\n",
    "import fractions\n",
    "import pandas as pd"
   ]
  },
  {
   "cell_type": "markdown",
   "metadata": {},
   "source": [
    "## Atlas and Density"
   ]
  },
  {
   "cell_type": "markdown",
   "metadata": {},
   "source": [
    "Take some data from your standard recipe and mesobuilder configuration to define the size of the hexagon and of the tiling"
   ]
  },
  {
   "cell_type": "code",
   "execution_count": null,
   "metadata": {
    "collapsed": false
   },
   "outputs": [],
   "source": [
    "# data from the recipe:\n",
    "recipe_filename = \"../data/bbp_recipe/builderRecipeAllPathways.xml\"\n",
    "neurondb_filename = \"../data/bbp_recipe/neurondb.dat\"\n",
    "\n",
    "lattice_vectors =  bbp.get_lattice_vectors(recipe_filename)\n",
    "layer_thickness_microns = bbp.get_layer_thickness(recipe_filename)\n",
    "\n",
    "# data from the O1 meso_conf.yaml\n",
    "mosaic_n1 = 3\n",
    "mosaic_n2 = 3\n",
    "mosaic_coords_mask = [(0, 0), (0, 2)]\n",
    "            "
   ]
  },
  {
   "cell_type": "markdown",
   "metadata": {
    "collapsed": false
   },
   "source": [
    "Build a custom hierarchy"
   ]
  },
  {
   "cell_type": "code",
   "execution_count": null,
   "metadata": {
    "collapsed": false
   },
   "outputs": [],
   "source": [
    "hierarchy = Hierarchy({\n",
    "        'name': 'root',\n",
    "        'id': 999,\n",
    "        'children': [\n",
    "            {'name': 'Pia', 'id': 0},\n",
    "            {'name': 'Layer 1', 'id': 1},\n",
    "            {'name': 'Layer 2', 'id': 2},\n",
    "            {'name': 'Layer 3', 'id': 3},\n",
    "            {'name': 'Layer 4', 'id': 4},\n",
    "            {'name': 'Layer 5', 'id': 5},\n",
    "            {'name': 'Layer 6', 'id': 6},\n",
    "        ]\n",
    "    })"
   ]
  },
  {
   "cell_type": "markdown",
   "metadata": {},
   "source": [
    "Note that we want our atlas to contain a bit of space tagged as \"outside the brain\". This will later be used to compute \"distance to pia\" for placement hints."
   ]
  },
  {
   "cell_type": "code",
   "execution_count": null,
   "metadata": {
    "collapsed": false
   },
   "outputs": [],
   "source": [
    "layer_thickness_microns[0] = 15  # PIA"
   ]
  },
  {
   "cell_type": "code",
   "execution_count": null,
   "metadata": {
    "collapsed": false
   },
   "outputs": [],
   "source": [
    "layer_ids, heights_microns = zip(*sorted(layer_thickness_microns.items(), lambda l, _: -l[0]))\n",
    "\n",
    "hexagon_side = np.sqrt(np.sum(np.square(lattice_vectors['a1'])))"
   ]
  },
  {
   "cell_type": "markdown",
   "metadata": {},
   "source": [
    "Convert from microns to number of voxels"
   ]
  },
  {
   "cell_type": "code",
   "execution_count": null,
   "metadata": {
    "collapsed": false
   },
   "outputs": [],
   "source": [
    "voxel_side_microns = build.get_voxel_side(heights_microns)\n",
    "\n",
    "heights = np.round(np.array(heights_microns) / voxel_side_microns).astype(np.uint)\n",
    "max_width = np.round(np.array(3 * 2 * hexagon_side) / voxel_side_microns).astype(np.uint)"
   ]
  },
  {
   "cell_type": "markdown",
   "metadata": {},
   "source": [
    "Build a custom annotation"
   ]
  },
  {
   "cell_type": "code",
   "execution_count": null,
   "metadata": {
    "collapsed": false
   },
   "outputs": [],
   "source": [
    "annotation = VoxelData(build.layered_annotation((max_width, max_width), heights, layer_ids), [voxel_side_microns] * 3)"
   ]
  },
  {
   "cell_type": "code",
   "execution_count": null,
   "metadata": {
    "collapsed": false
   },
   "outputs": [],
   "source": [
    "VoxcellWidget().show_volume('annotation', annotation)"
   ]
  },
  {
   "cell_type": "markdown",
   "metadata": {
    "collapsed": false
   },
   "source": [
    "Build the single column mask"
   ]
  },
  {
   "cell_type": "code",
   "execution_count": null,
   "metadata": {
    "collapsed": false
   },
   "outputs": [],
   "source": [
    "hexagon_mask = build.regular_convex_polygon_mask_from_side(hexagon_side, 6, voxel_side_microns)\n",
    "\n",
    "VoxcellWidget().show_volume('hexagon', np.array([hexagon_mask]))\n",
    "\n",
    "single_column_mask = build.column_mask(hexagon_mask, length=annotation.raw.shape[1], axis=1)\n",
    "single_column_mask = math.clip(single_column_mask, math.minimum_aabb(single_column_mask))"
   ]
  },
  {
   "cell_type": "markdown",
   "metadata": {},
   "source": [
    "Build the mosaic mask"
   ]
  },
  {
   "cell_type": "code",
   "execution_count": null,
   "metadata": {
    "collapsed": false
   },
   "outputs": [],
   "source": [
    "tiling = build.lattice_tiling(mosaic_n1, mosaic_n2,\n",
    "                                 lattice_vectors['a1'] / voxel_side_microns,\n",
    "                                 lattice_vectors['a2'] / voxel_side_microns,\n",
    "                                 mosaic_coords_mask)\n",
    "\n",
    "mosaic_mask = build.tiled_pattern(hexagon_mask, (np.floor(t).astype(np.int) for t in tiling))\n",
    "VoxcellWidget().show_volume('mosaic_mask', np.array([mosaic_mask]))"
   ]
  },
  {
   "cell_type": "code",
   "execution_count": null,
   "metadata": {
    "collapsed": false,
    "scrolled": false
   },
   "outputs": [],
   "source": [
    "mosaic_column_mask = build.column_mask(mosaic_mask, length=annotation.raw.shape[1], axis=1)\n",
    "mosaic_column_mask = math.clip(mosaic_column_mask, math.minimum_aabb(mosaic_column_mask))\n",
    "VoxcellWidget().show_volume('mosaic_column_mask', mosaic_column_mask)"
   ]
  },
  {
   "cell_type": "markdown",
   "metadata": {},
   "source": [
    "Build custom densities using the layer percentages from the recipe and our custom annotation"
   ]
  },
  {
   "cell_type": "code",
   "execution_count": null,
   "metadata": {
    "collapsed": false
   },
   "outputs": [],
   "source": [
    "full_density = bbp.load_recipe_density(recipe_filename, annotation,\n",
    "                                       {1: (1,), 2: (2,), 3:(3,), 4:(4,), 5:(5,), 6:(6,)})"
   ]
  },
  {
   "cell_type": "code",
   "execution_count": null,
   "metadata": {
    "collapsed": false
   },
   "outputs": [],
   "source": [
    "single_column_density = full_density.clipped(math.minimum_aabb(single_column_mask))\n",
    "single_column_density.raw *= single_column_mask"
   ]
  },
  {
   "cell_type": "code",
   "execution_count": null,
   "metadata": {
    "collapsed": false
   },
   "outputs": [],
   "source": [
    "mosaic_column_density = full_density.clipped(math.minimum_aabb(mosaic_column_mask))\n",
    "mosaic_column_density.raw *= mosaic_column_mask"
   ]
  },
  {
   "cell_type": "markdown",
   "metadata": {},
   "source": [
    "## Circuit Building"
   ]
  },
  {
   "cell_type": "code",
   "execution_count": null,
   "metadata": {
    "collapsed": false
   },
   "outputs": [],
   "source": [
    "total_cell_count = bbp.get_total_neurons(recipe_filename)"
   ]
  },
  {
   "cell_type": "code",
   "execution_count": null,
   "metadata": {
    "collapsed": false
   },
   "outputs": [],
   "source": [
    "from brainbuilder.cell_positioning import cell_positioning\n",
    "from brainbuilder.assignment_synapse_class import assign_synapse_class_from_spatial_dist\n",
    "from brainbuilder.assignment_metype import assign_metype\n",
    "from brainbuilder.assignment_morphology import assign_morphology"
   ]
  },
  {
   "cell_type": "code",
   "execution_count": null,
   "metadata": {
    "collapsed": false
   },
   "outputs": [],
   "source": [
    "region_name = 'root'\n",
    "recipe_sdist = bbp.load_recipe_as_spatial_distribution(recipe_filename, annotation, hierarchy, region_name)\n",
    "neuron_sdist = bbp.load_neurondb_v4_as_spatial_distribution(neurondb_filename, annotation, hierarchy, region_name, percentile=0.92)\n",
    "\n",
    "def build_cells(total_cell_count, density):\n",
    "    '''the standard workflow to build an SSCX circuit'''\n",
    "    new_cells = CellCollection()\n",
    "\n",
    "    # Positions\n",
    "    new_cells.positions = cell_positioning(density, total_cell_count)\n",
    "\n",
    "    # Excitatory / Inhibitory\n",
    "    chosen_synapse_class = assign_synapse_class_from_spatial_dist(new_cells.positions, recipe_sdist)\n",
    "    new_cells.add_properties(chosen_synapse_class)\n",
    "    \n",
    "    # MType, EType\n",
    "    chosen_me = assign_metype(new_cells.positions, new_cells.properties.synapse_class, recipe_sdist)\n",
    "    new_cells.add_properties(chosen_me)\n",
    "\n",
    "    # Morphology\n",
    "    chosen_morphology = assign_morphology(new_cells.positions, new_cells.properties[['mtype', 'etype']], neuron_sdist)\n",
    "    new_cells.add_properties(chosen_morphology)\n",
    "\n",
    "    # cells.orientations = assign_orientations(cells.positions, orientation_field)\n",
    "\n",
    "    # layer (for later analysis)\n",
    "    lid = annotation.lookup(new_cells.positions) - 1\n",
    "    new_cells.add_properties(pd.DataFrame({'layer': lid}))\n",
    "\n",
    "    return new_cells"
   ]
  },
  {
   "cell_type": "code",
   "execution_count": null,
   "metadata": {
    "collapsed": false
   },
   "outputs": [],
   "source": [
    "single_columns = [build_cells(31346, single_column_density) for i in range(7)]\n",
    "VoxcellWidget().show_property('mtype', single_columns[0])"
   ]
  },
  {
   "cell_type": "code",
   "execution_count": null,
   "metadata": {
    "collapsed": false
   },
   "outputs": [],
   "source": [
    "mosaic_column_cells = build_cells(219422, mosaic_column_density)\n",
    "VoxcellWidget().show_property('mtype', mosaic_column_cells)"
   ]
  },
  {
   "cell_type": "markdown",
   "metadata": {},
   "source": [
    "## Analysis"
   ]
  },
  {
   "cell_type": "code",
   "execution_count": null,
   "metadata": {
    "collapsed": false
   },
   "outputs": [],
   "source": [
    "import report"
   ]
  },
  {
   "cell_type": "code",
   "execution_count": null,
   "metadata": {
    "collapsed": false
   },
   "outputs": [],
   "source": [
    "report.check_hexagon_diameter(single_columns, hexagon_side)"
   ]
  },
  {
   "cell_type": "code",
   "execution_count": null,
   "metadata": {
    "collapsed": false
   },
   "outputs": [],
   "source": [
    "plt.figure()\n",
    "_ = plt.hist2d(mosaic_column_cells.positions[:, 0], mosaic_column_cells.positions[:, 2], bins=(110, 120), cmap='binary_r')"
   ]
  },
  {
   "cell_type": "code",
   "execution_count": null,
   "metadata": {
    "collapsed": false
   },
   "outputs": [],
   "source": [
    "report.report_height_histogram(single_columns)"
   ]
  },
  {
   "cell_type": "code",
   "execution_count": null,
   "metadata": {
    "collapsed": false
   },
   "outputs": [],
   "source": [
    "recipe = bbp.get_distribution_from_recipe(recipe_filename)\n",
    "recipe.layer -= 1  # in the recipe they are indexed by 1 but in the mvd2 they are by 0"
   ]
  },
  {
   "cell_type": "markdown",
   "metadata": {},
   "source": [
    "Compare the percentages of cells grouped by layer with the values specified in the recipe."
   ]
  },
  {
   "cell_type": "code",
   "execution_count": null,
   "metadata": {
    "collapsed": false
   },
   "outputs": [],
   "source": [
    "report.report_cell_percentages(recipe, [single_columns[0]], ['layer'])"
   ]
  },
  {
   "cell_type": "markdown",
   "metadata": {},
   "source": [
    "Compare the percentages of cells grouped by layer-mtype-etype with the values specified in the recipe."
   ]
  },
  {
   "cell_type": "code",
   "execution_count": null,
   "metadata": {
    "collapsed": false,
    "scrolled": false
   },
   "outputs": [],
   "source": [
    "report.report_cell_percentages(recipe, [single_columns[0]], ['layer', 'mtype', 'etype'])"
   ]
  },
  {
   "cell_type": "markdown",
   "metadata": {},
   "source": [
    "## Placement hints\n",
    "Look at cells without valid morphologies, check that they belong to mtypes for which some placement hint scores are zero"
   ]
  },
  {
   "cell_type": "code",
   "execution_count": null,
   "metadata": {
    "collapsed": false
   },
   "outputs": [],
   "source": [
    "neurondb = bbp.load_neurondb_v4(neurondb_filename)\n",
    "neurondb.layer -= 1  # in the neurondb they are indexed by 1 but in the mvd2 they are by 0"
   ]
  },
  {
   "cell_type": "code",
   "execution_count": null,
   "metadata": {
    "collapsed": false
   },
   "outputs": [],
   "source": [
    "hints = report.collect_placement_hints(neurondb)\n",
    "for c in single_columns + [mosaic_column_cells]:\n",
    "    report.check_bad_bins(hints, c)"
   ]
  },
  {
   "cell_type": "code",
   "execution_count": null,
   "metadata": {
    "collapsed": false
   },
   "outputs": [],
   "source": []
  }
 ],
 "metadata": {
  "kernelspec": {
   "display_name": "Python 2",
   "language": "python",
   "name": "python2"
  },
  "language_info": {
   "codemirror_mode": {
    "name": "ipython",
    "version": 2
   },
   "file_extension": ".py",
   "mimetype": "text/x-python",
   "name": "python",
   "nbconvert_exporter": "python",
   "pygments_lexer": "ipython2",
   "version": "2.7.6"
  }
 },
 "nbformat": 4,
 "nbformat_minor": 0
}
