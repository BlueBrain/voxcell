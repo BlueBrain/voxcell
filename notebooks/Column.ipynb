{
 "cells": [
  {
   "cell_type": "markdown",
   "metadata": {},
   "source": [
    "# BrainBuilder Column\n",
    "This notebook builds a microcircuit using the brainbuilder library and some custom-built atlases to match the existing BBP model."
   ]
  },
  {
   "cell_type": "code",
   "execution_count": null,
   "metadata": {
    "collapsed": false
   },
   "outputs": [],
   "source": [
    "%matplotlib inline\n",
    "\n",
    "import numpy as np\n",
    "import pandas as pd\n",
    "\n",
    "from matplotlib import pyplot as plt\n",
    "\n",
    "from brainbuilder.sscx.annotation import build_column_atlas\n",
    "from brainbuilder.utils import bbp\n",
    "\n",
    "from voxcell.core import CellCollection, VoxelData, Hierarchy\n",
    "\n",
    "from voxcellview.widget import VoxcellWidget"
   ]
  },
  {
   "cell_type": "markdown",
   "metadata": {},
   "source": [
    "## Atlas and Density"
   ]
  },
  {
   "cell_type": "code",
   "execution_count": null,
   "metadata": {
    "collapsed": false
   },
   "outputs": [],
   "source": [
    "# data from the recipe:\n",
    "recipe_filename = \"../brainbuilder/data/bbp_recipe/builderRecipeAllPathways.xml\"\n",
    "neurondb_filename = \"../brainbuilder/data/bbp_recipe/neurondb.dat\""
   ]
  },
  {
   "cell_type": "code",
   "execution_count": null,
   "metadata": {
    "collapsed": false
   },
   "outputs": [],
   "source": [
    "annotation, hierarchy = build_column_atlas(recipe_filename)\n",
    "region_map = { x: str(x,) for x in range(1, 7) }"
   ]
  },
  {
   "cell_type": "code",
   "execution_count": null,
   "metadata": {
    "collapsed": false
   },
   "outputs": [],
   "source": [
    "VoxcellWidget().show_volume('annotation', annotation.raw)"
   ]
  },
  {
   "cell_type": "markdown",
   "metadata": {},
   "source": [
    "Build column density using the layer percentages from the recipe and our custom annotation"
   ]
  },
  {
   "cell_type": "code",
   "execution_count": null,
   "metadata": {
    "collapsed": false
   },
   "outputs": [],
   "source": [
    "column_density = bbp.load_recipe_density(recipe_filename, annotation, region_map)"
   ]
  },
  {
   "cell_type": "markdown",
   "metadata": {},
   "source": [
    "## Circuit Building"
   ]
  },
  {
   "cell_type": "code",
   "execution_count": null,
   "metadata": {
    "collapsed": false
   },
   "outputs": [],
   "source": [
    "column_cell_count = bbp.get_total_neurons(recipe_filename)"
   ]
  },
  {
   "cell_type": "code",
   "execution_count": null,
   "metadata": {
    "collapsed": false
   },
   "outputs": [],
   "source": [
    "from voxcell.positions import create_cell_positions"
   ]
  },
  {
   "cell_type": "code",
   "execution_count": null,
   "metadata": {
    "collapsed": false
   },
   "outputs": [],
   "source": [
    "recipe_sdist = bbp.load_recipe_as_spatial_distribution(recipe_filename, annotation, region_map)\n",
    "neuron_sdist = bbp.load_neurondb_v4_as_spatial_distribution(neurondb_filename, annotation, region_map, percentile=0.92)\n",
    "\n",
    "def build_cells(total_cell_count, density):\n",
    "    '''the standard workflow to build an SSCX circuit'''\n",
    "    cells = CellCollection()\n",
    "\n",
    "    # Positions\n",
    "    cells.positions = create_cell_positions(density, total_cell_count)\n",
    "    \n",
    "    # Layer\n",
    "    cells.add_properties(\n",
    "        pd.DataFrame({'layer': annotation.lookup(cells.positions).astype(np.str)})\n",
    "    )\n",
    "    \n",
    "    # MType / EType / Synapse Class / mClass\n",
    "    cells.add_properties(\n",
    "        recipe_sdist.collect(\n",
    "            positions=cells.positions,\n",
    "            preassigned=cells.properties[['layer']],\n",
    "            names=['mtype', 'etype', 'synapse_class', 'mClass']\n",
    "        )\n",
    "    )\n",
    "\n",
    "    # Morphology\n",
    "    cells.add_properties(\n",
    "        neuron_sdist.collect(\n",
    "            positions=cells.positions,\n",
    "            preassigned=cells.properties[['layer', 'mtype', 'etype']],\n",
    "            names=['morphology']\n",
    "        )\n",
    "    )\n",
    "\n",
    "    return cells"
   ]
  },
  {
   "cell_type": "code",
   "execution_count": null,
   "metadata": {
    "collapsed": false
   },
   "outputs": [],
   "source": [
    "single_columns = [build_cells(column_cell_count, column_density) for i in range(7)]"
   ]
  },
  {
   "cell_type": "code",
   "execution_count": null,
   "metadata": {
    "collapsed": true
   },
   "outputs": [],
   "source": [
    "VoxcellWidget().show_property('mtype', single_columns[0].as_dataframe())"
   ]
  },
  {
   "cell_type": "markdown",
   "metadata": {},
   "source": [
    "## Analysis"
   ]
  },
  {
   "cell_type": "code",
   "execution_count": null,
   "metadata": {
    "collapsed": true
   },
   "outputs": [],
   "source": [
    "import report"
   ]
  },
  {
   "cell_type": "code",
   "execution_count": null,
   "metadata": {
    "collapsed": false
   },
   "outputs": [],
   "source": [
    "report.report_height_histogram(single_columns)"
   ]
  },
  {
   "cell_type": "code",
   "execution_count": null,
   "metadata": {
    "collapsed": false
   },
   "outputs": [],
   "source": [
    "recipe = bbp.get_distribution_from_recipe(recipe_filename)"
   ]
  },
  {
   "cell_type": "markdown",
   "metadata": {},
   "source": [
    "Compare the percentages of cells grouped by layer with the values specified in the recipe."
   ]
  },
  {
   "cell_type": "code",
   "execution_count": null,
   "metadata": {
    "collapsed": false
   },
   "outputs": [],
   "source": [
    "report.report_cell_percentages(recipe, [single_columns[0]], ['layer'])"
   ]
  },
  {
   "cell_type": "markdown",
   "metadata": {},
   "source": [
    "Compare the percentages of cells grouped by layer-mtype-etype with the values specified in the recipe."
   ]
  },
  {
   "cell_type": "code",
   "execution_count": null,
   "metadata": {
    "collapsed": false,
    "scrolled": false
   },
   "outputs": [],
   "source": [
    "report.report_cell_percentages(recipe, [single_columns[0]], ['layer', 'mtype', 'etype'])"
   ]
  },
  {
   "cell_type": "markdown",
   "metadata": {},
   "source": [
    "## Placement hints\n",
    "Look at cells without valid morphologies, check that they belong to mtypes for which some placement hint scores are zero"
   ]
  },
  {
   "cell_type": "code",
   "execution_count": null,
   "metadata": {
    "collapsed": false
   },
   "outputs": [],
   "source": [
    "neurondb = bbp.load_neurondb_v4(neurondb_filename)"
   ]
  },
  {
   "cell_type": "code",
   "execution_count": null,
   "metadata": {
    "collapsed": false
   },
   "outputs": [],
   "source": [
    "hints = report.collect_placement_hints(neurondb)\n",
    "for c in single_columns:\n",
    "    report.check_bad_bins(hints, c)"
   ]
  }
 ],
 "metadata": {
  "kernelspec": {
   "display_name": "Python 2",
   "language": "python",
   "name": "python2"
  },
  "language_info": {
   "codemirror_mode": {
    "name": "ipython",
    "version": 2
   },
   "file_extension": ".py",
   "mimetype": "text/x-python",
   "name": "python",
   "nbconvert_exporter": "python",
   "pygments_lexer": "ipython2",
   "version": "2.7.6"
  },
  "widgets": {
   "state": {
    "9e29debe35b545639c760eb4ae4d3981": {
     "views": [
      {
       "cell_index": 13
      }
     ]
    }
   },
   "version": "1.2.0"
  }
 },
 "nbformat": 4,
 "nbformat_minor": 0
}
