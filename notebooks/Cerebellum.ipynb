{
 "cells": [
  {
   "cell_type": "code",
   "execution_count": null,
   "metadata": {
    "collapsed": false
   },
   "outputs": [],
   "source": [
    "from collections import namedtuple\n",
    "import fractions\n",
    "import numpy as np\n",
    "import pandas as pd\n",
    "from voxcellview.widget import VoxcellWidget\n",
    "\n",
    "\n",
    "from voxcell.core import CellCollection, VoxelData\n",
    "from voxcell import build\n",
    "\n",
    "%matplotlib inline"
   ]
  },
  {
   "cell_type": "markdown",
   "metadata": {},
   "source": [
    "network properties from: https://collab.humanbrainproject.eu/#/collab/375/nav/3533"
   ]
  },
  {
   "cell_type": "markdown",
   "metadata": {},
   "source": [
    "units for length (heights, widths,...) are all in µm."
   ]
  },
  {
   "cell_type": "markdown",
   "metadata": {},
   "source": [
    "# density"
   ]
  },
  {
   "cell_type": "markdown",
   "metadata": {},
   "source": [
    "## layered annotations"
   ]
  },
  {
   "cell_type": "code",
   "execution_count": null,
   "metadata": {
    "collapsed": false
   },
   "outputs": [],
   "source": [
    "LayerDefinition = namedtuple(\"LayerDefinition\", \"name height id\")\n",
    "layer_definitions = [\n",
    "    # Granular Layer\n",
    "    LayerDefinition(\"GL\", 151, 1),\n",
    "    # Purkinje cell Layer\n",
    "    LayerDefinition(\"PL\", 35, 2),\n",
    "    # Molecular Layer\n",
    "    LayerDefinition(\"ML\", 300, 3),\n",
    "]\n",
    "\n",
    "volume_length = 600\n",
    "volume_width = 600"
   ]
  },
  {
   "cell_type": "code",
   "execution_count": null,
   "metadata": {
    "collapsed": false
   },
   "outputs": [],
   "source": [
    "layer_ids = [l.id for l in reversed(layer_definitions)]\n",
    "layer_heights = [l.height for l in reversed(layer_definitions)]"
   ]
  },
  {
   "cell_type": "code",
   "execution_count": null,
   "metadata": {
    "collapsed": false
   },
   "outputs": [],
   "source": [
    "def get_voxel_side(layer_heights):\n",
    "    rounded_heights = np.round(layer_heights)\n",
    "    result = rounded_heights[0]\n",
    "    for n in rounded_heights:\n",
    "        result = fractions.gcd(result, n)\n",
    "    result = max(5, result)\n",
    "    return result\n",
    "\n",
    "voxel_side = get_voxel_side(layer_heights)\n",
    "\n",
    "layer_heights_voxel = np.round(np.array(layer_heights) / voxel_side).astype(np.uint)\n",
    "volume_length_voxel = volume_length / voxel_side\n",
    "volume_width_voxel = volume_width / voxel_side"
   ]
  },
  {
   "cell_type": "code",
   "execution_count": null,
   "metadata": {
    "collapsed": false
   },
   "outputs": [],
   "source": [
    "annotation = VoxelData(build.layered_annotation((volume_length_voxel, volume_width_voxel),\n",
    "                                                layer_heights_voxel, layer_ids),\n",
    "                       [voxel_side] * 3)"
   ]
  },
  {
   "cell_type": "code",
   "execution_count": null,
   "metadata": {
    "collapsed": false
   },
   "outputs": [],
   "source": [
    "VoxcellWidget().show_volume('annotation', annotation, {\"particle_size\": 3})"
   ]
  },
  {
   "cell_type": "markdown",
   "metadata": {},
   "source": [
    "## layer densities"
   ]
  },
  {
   "cell_type": "code",
   "execution_count": null,
   "metadata": {
    "collapsed": false
   },
   "outputs": [],
   "source": [
    "# unit is cells per µ^3\n",
    "# original data are cells per mm^3\n",
    "DENSITY_RATIO = 1e-9  # to convert between mm^3 and micron^3\n",
    "\n",
    "density = {\n",
    "    \"GL\": {\n",
    "        \"Glomeruli\": 3e5 * DENSITY_RATIO,\n",
    "        # Golgi Cells\n",
    "        \"GoC\": 9e3 * DENSITY_RATIO,\n",
    "        # Granule Cells\n",
    "        \"GrC\": 4e6 * DENSITY_RATIO,\n",
    "    },\n",
    "    \"PL\": {\n",
    "        # Purkinje Cells\n",
    "        \"PC\": 6e5 * DENSITY_RATIO,\n",
    "    },\n",
    "    \"ML\": {\n",
    "        # Stellate Cells\n",
    "        \"SC\": 1e5 * DENSITY_RATIO,\n",
    "        # Basket Cells\n",
    "        \"BC\": 1e5 * DENSITY_RATIO,\n",
    "    },\n",
    "}\n",
    "d_density = pd.DataFrame()"
   ]
  },
  {
   "cell_type": "code",
   "execution_count": null,
   "metadata": {
    "collapsed": false
   },
   "outputs": [],
   "source": [
    "id_to_layer_name = dict((ld.id, ld.name) for ld in layer_definitions)"
   ]
  },
  {
   "cell_type": "code",
   "execution_count": null,
   "metadata": {
    "collapsed": false
   },
   "outputs": [],
   "source": [
    "layer_name_to_id = dict((ld.name, ld.id) for ld in layer_definitions)"
   ]
  },
  {
   "cell_type": "code",
   "execution_count": null,
   "metadata": {
    "collapsed": false
   },
   "outputs": [],
   "source": [
    "voxel_raw = np.zeros_like(annotation.raw, dtype=np.float32)"
   ]
  },
  {
   "cell_type": "code",
   "execution_count": null,
   "metadata": {
    "collapsed": false
   },
   "outputs": [],
   "source": [
    "for l_id in layer_ids:\n",
    "    mask = annotation.raw == l_id\n",
    "    voxel_count = np.count_nonzero(mask)\n",
    "    layer_name = id_to_layer_name[l_id]\n",
    "    voxel_raw[mask] = float(sum(density[layer_name].values()))\n",
    "\n",
    "voxel_density = VoxelData(voxel_raw, annotation.voxel_dimensions, annotation.offset)"
   ]
  },
  {
   "cell_type": "code",
   "execution_count": null,
   "metadata": {
    "collapsed": false
   },
   "outputs": [],
   "source": [
    "VoxcellWidget().show_volume('density', voxel_density, {\"particle_size\": 3})"
   ]
  },
  {
   "cell_type": "markdown",
   "metadata": {},
   "source": [
    "# cell positions"
   ]
  },
  {
   "cell_type": "code",
   "execution_count": null,
   "metadata": {
    "collapsed": false
   },
   "outputs": [],
   "source": [
    "layer_volumes = dict((layer.name, layer.height * volume_length * volume_width)\n",
    "                     for layer in layer_definitions)"
   ]
  },
  {
   "cell_type": "code",
   "execution_count": null,
   "metadata": {
    "collapsed": false
   },
   "outputs": [],
   "source": [
    "layer_volumes"
   ]
  },
  {
   "cell_type": "code",
   "execution_count": null,
   "metadata": {
    "collapsed": false
   },
   "outputs": [],
   "source": [
    "total_cell_count = round(sum(layer_volumes[layer] * d\n",
    "                             for layer in layer_volumes\n",
    "                             for d in density[layer].values()))"
   ]
  },
  {
   "cell_type": "code",
   "execution_count": null,
   "metadata": {
    "collapsed": false
   },
   "outputs": [],
   "source": [
    "total_cell_count"
   ]
  },
  {
   "cell_type": "code",
   "execution_count": null,
   "metadata": {
    "collapsed": false
   },
   "outputs": [],
   "source": [
    "from brainbuilder.cell_positioning import cell_positioning"
   ]
  },
  {
   "cell_type": "code",
   "execution_count": null,
   "metadata": {
    "collapsed": false
   },
   "outputs": [],
   "source": [
    "new_cells = CellCollection()"
   ]
  },
  {
   "cell_type": "code",
   "execution_count": null,
   "metadata": {
    "collapsed": false
   },
   "outputs": [],
   "source": [
    "new_cells.positions = cell_positioning(voxel_density, int(total_cell_count))"
   ]
  },
  {
   "cell_type": "code",
   "execution_count": null,
   "metadata": {
    "collapsed": false
   },
   "outputs": [],
   "source": [
    "VoxcellWidget().show_points('position', new_cells, {\"particle_size\": 1})"
   ]
  },
  {
   "cell_type": "markdown",
   "metadata": {},
   "source": [
    "# mtype assignment"
   ]
  },
  {
   "cell_type": "markdown",
   "metadata": {},
   "source": [
    "## traits"
   ]
  },
  {
   "cell_type": "code",
   "execution_count": null,
   "metadata": {
    "collapsed": false
   },
   "outputs": [],
   "source": [
    "traits_mtype = pd.DataFrame([[mtype] for layer in density\n",
    "                             for mtype in density[layer]],\n",
    "                            columns=[\"mtype\"])\n",
    "traits_mtype"
   ]
  },
  {
   "cell_type": "markdown",
   "metadata": {},
   "source": [
    "## distribution"
   ]
  },
  {
   "cell_type": "code",
   "execution_count": null,
   "metadata": {
    "collapsed": false
   },
   "outputs": [],
   "source": [
    " dist_mtype = pd.DataFrame(data=0.0, index=traits_mtype.index, columns=id_to_layer_name.keys())"
   ]
  },
  {
   "cell_type": "code",
   "execution_count": null,
   "metadata": {
    "collapsed": false
   },
   "outputs": [],
   "source": [
    "from voxcell.traits import SpatialDistribution"
   ]
  },
  {
   "cell_type": "code",
   "execution_count": null,
   "metadata": {
    "collapsed": false
   },
   "outputs": [],
   "source": [
    "for layer in density:\n",
    "    for mtype in density[layer]:\n",
    "        d = traits_mtype[traits_mtype.mtype == mtype]\n",
    "        dist_mtype.loc[d.index, layer_name_to_id[layer]] = density[layer][mtype]\n",
    "dist_mtype /= dist_mtype.sum()\n",
    "dist_mtype"
   ]
  },
  {
   "cell_type": "markdown",
   "metadata": {},
   "source": [
    "## spatial distribution"
   ]
  },
  {
   "cell_type": "code",
   "execution_count": null,
   "metadata": {
    "collapsed": false
   },
   "outputs": [],
   "source": [
    "sd = SpatialDistribution(annotation, dist_mtype, traits_mtype)"
   ]
  },
  {
   "cell_type": "code",
   "execution_count": null,
   "metadata": {
    "collapsed": false
   },
   "outputs": [],
   "source": [
    "chosen_mtype = sd.assign(new_cells.positions)"
   ]
  },
  {
   "cell_type": "code",
   "execution_count": null,
   "metadata": {
    "collapsed": false
   },
   "outputs": [],
   "source": [
    "property_mtype = sd.collect_traits(chosen_mtype, ['mtype'])"
   ]
  },
  {
   "cell_type": "code",
   "execution_count": null,
   "metadata": {
    "collapsed": false
   },
   "outputs": [],
   "source": [
    "new_cells.add_properties(property_mtype)"
   ]
  },
  {
   "cell_type": "markdown",
   "metadata": {},
   "source": [
    "performs intrinsic validations based on the densities"
   ]
  },
  {
   "cell_type": "code",
   "execution_count": null,
   "metadata": {
    "collapsed": false
   },
   "outputs": [],
   "source": [
    "def sum_cells_mtype(cells, mtype):\n",
    "    ''' count the number of cells of a given mtype'''\n",
    "    return np.count_nonzero(cells.properties[cells.properties.mtype == mtype].mtype)\n",
    "\n",
    "\n",
    "def get_density_delta(ref_densities, cells, layer_volumes):\n",
    "    ''' get a panda dataframe for the density delta\n",
    "    between ref_densities and given cell collection\n",
    "    '''\n",
    "    density_delta = pd.DataFrame(columns=['delta %'])\n",
    "    for layer_name in ref_densities:\n",
    "        for mtype in ref_densities[layer_name]:\n",
    "            ref_density = ref_densities[layer_name][mtype]\n",
    "            nb_cells = sum_cells_mtype(cells, mtype)\n",
    "            model_density = float(nb_cells) / layer_volumes[layer_name]\n",
    "            ratio = ((model_density / ref_density) - 1.0) * 100\n",
    "            density_delta.loc[mtype] = round(ratio, 2)\n",
    "    return density_delta\n",
    "\n",
    "get_density_delta(density, new_cells, layer_volumes)"
   ]
  },
  {
   "cell_type": "code",
   "execution_count": null,
   "metadata": {
    "collapsed": false
   },
   "outputs": [],
   "source": [
    "VoxcellWidget().show_property('mtype', new_cells, display_parameters={\"particle_size\": 1.5})"
   ]
  },
  {
   "cell_type": "markdown",
   "metadata": {
    "collapsed": false
   },
   "source": [
    "# morphology assignment"
   ]
  },
  {
   "cell_type": "markdown",
   "metadata": {},
   "source": [
    "for each mtype, morphology models are uniformly distributed."
   ]
  },
  {
   "cell_type": "markdown",
   "metadata": {},
   "source": [
    "morphology_models lists are built based on a sample from https://collab.humanbrainproject.eu/#/collab/375/nav/3410\n",
    "please update it with the morphologies you want to take into account."
   ]
  },
  {
   "cell_type": "code",
   "execution_count": null,
   "metadata": {
    "collapsed": false
   },
   "outputs": [],
   "source": [
    "morphology_models = {\n",
    "    \"BC\": [\"189-1-15dw.CNG\", \"189-1-3dw.CNG\", \"189-1-5dw.CNG\", \"189-1-9dw.CNG\"],\n",
    "    \"GrC\": [\"210710C0.CNG\", \"240710C0.CNG\", \"270111C0.CNG\", \"270111C3.CNG\", \"Golgi-cell-051108-C0-cell1.CNG\"],\n",
    "    \"PC\": [\"Purkinje-slice-ageP35-1.CNG\", \"Purkinje-slice-ageP35-2.CNG\"],\n",
    "    \"SC\": [\"189-1-10dw.CNG\", \"189-1-12dw.CNG\", \"189-1-16dw.CNG\", \"189-1-1dw.CNG\", \"189-1-27dw.CNG\", \"189-1-6dw.CNG\", \"189-1-7dw.CNG\"],\n",
    "    \"Glomeruli\": [\"Glomeruli-example\"],\n",
    "    \"GoC\": [\"GoC-Example\"]\n",
    "}"
   ]
  },
  {
   "cell_type": "markdown",
   "metadata": {},
   "source": [
    "## traits"
   ]
  },
  {
   "cell_type": "code",
   "execution_count": null,
   "metadata": {
    "collapsed": false
   },
   "outputs": [],
   "source": [
    "traits_morph = pd.DataFrame([[mtype, morph] for layer in density\n",
    "                             for mtype in density[layer]\n",
    "                             for morph in morphology_models[mtype]],\n",
    "                            columns=[\"mtype\", \"morph_name\"])"
   ]
  },
  {
   "cell_type": "code",
   "execution_count": null,
   "metadata": {
    "collapsed": false
   },
   "outputs": [],
   "source": [
    "traits_morph"
   ]
  },
  {
   "cell_type": "markdown",
   "metadata": {},
   "source": [
    "## distribution"
   ]
  },
  {
   "cell_type": "code",
   "execution_count": null,
   "metadata": {
    "collapsed": false
   },
   "outputs": [],
   "source": [
    "dist_morphology = pd.DataFrame(data=0.0, index=traits_morph.index, columns=id_to_layer_name.keys())"
   ]
  },
  {
   "cell_type": "code",
   "execution_count": null,
   "metadata": {
    "collapsed": false
   },
   "outputs": [],
   "source": [
    "from voxcell.traits import SpatialDistribution"
   ]
  },
  {
   "cell_type": "code",
   "execution_count": null,
   "metadata": {
    "collapsed": false
   },
   "outputs": [],
   "source": [
    "for layer in density:\n",
    "    for mtype in density[layer]:\n",
    "        for morph_name in morphology_models[mtype]:\n",
    "            d = traits_morph[(traits_morph.mtype == mtype) & (traits_morph.morph_name == morph_name)]\n",
    "            dist_morphology.loc[d.index, layer_name_to_id[layer]] = 1\n",
    "dist_morphology /= dist_morphology.sum()\n",
    "dist_morphology"
   ]
  },
  {
   "cell_type": "markdown",
   "metadata": {},
   "source": [
    "## spatial distribution"
   ]
  },
  {
   "cell_type": "code",
   "execution_count": null,
   "metadata": {
    "collapsed": false
   },
   "outputs": [],
   "source": [
    "sd = SpatialDistribution(annotation, dist_morphology, traits_morph)"
   ]
  },
  {
   "cell_type": "code",
   "execution_count": null,
   "metadata": {
    "collapsed": false
   },
   "outputs": [],
   "source": [
    "chosen_morph = sd.assign_conditional(new_cells.positions, property_mtype)"
   ]
  },
  {
   "cell_type": "code",
   "execution_count": null,
   "metadata": {
    "collapsed": false
   },
   "outputs": [],
   "source": [
    "property_morph = sd.collect_traits(chosen_morph, ['morph_name'])"
   ]
  },
  {
   "cell_type": "code",
   "execution_count": null,
   "metadata": {
    "collapsed": false
   },
   "outputs": [],
   "source": [
    "new_cells.add_properties(property_morph)"
   ]
  },
  {
   "cell_type": "markdown",
   "metadata": {},
   "source": [
    "perform instrinsic validations based on densities"
   ]
  },
  {
   "cell_type": "code",
   "execution_count": null,
   "metadata": {
    "collapsed": false
   },
   "outputs": [],
   "source": [
    "get_density_delta(density, new_cells, layer_volumes)"
   ]
  },
  {
   "cell_type": "code",
   "execution_count": null,
   "metadata": {
    "collapsed": false
   },
   "outputs": [],
   "source": [
    "VoxcellWidget().show_property('morph_name', new_cells, display_parameters={\"particle_size\": 1.5})"
   ]
  },
  {
   "cell_type": "markdown",
   "metadata": {},
   "source": [
    "# orientation assignment (WIP)"
   ]
  },
  {
   "cell_type": "code",
   "execution_count": null,
   "metadata": {
    "collapsed": false
   },
   "outputs": [],
   "source": [
    "from voxcell import vector_fields as vf"
   ]
  },
  {
   "cell_type": "code",
   "execution_count": null,
   "metadata": {
    "collapsed": false
   },
   "outputs": [],
   "source": [
    "v_right = vf.generate_homogeneous_field(np.ones(annotation.raw.shape, dtype=np.bool),\n",
    "                                        np.array([1, 0, 0]))"
   ]
  },
  {
   "cell_type": "code",
   "execution_count": null,
   "metadata": {
    "collapsed": false
   },
   "outputs": [],
   "source": [
    "v_up = vf.generate_homogeneous_field(np.ones(annotation.raw.shape, dtype=np.bool),\n",
    "                                     np.array([0, 1, 0]))"
   ]
  },
  {
   "cell_type": "code",
   "execution_count": null,
   "metadata": {
    "collapsed": false
   },
   "outputs": [],
   "source": [
    "v_fwd = vf.generate_homogeneous_field(np.ones(annotation.raw.shape, dtype=np.bool),\n",
    "                                      np.array([0, 0, 1]))"
   ]
  },
  {
   "cell_type": "code",
   "execution_count": null,
   "metadata": {
    "collapsed": false
   },
   "outputs": [],
   "source": [
    "fields = vf.combine_vector_fields([v_right, v_up, v_fwd])"
   ]
  },
  {
   "cell_type": "code",
   "execution_count": null,
   "metadata": {
    "collapsed": false
   },
   "outputs": [],
   "source": [
    "orientation_field = VoxelData(fields, annotation.voxel_dimensions, annotation.offset)"
   ]
  },
  {
   "cell_type": "code",
   "execution_count": null,
   "metadata": {
    "collapsed": false
   },
   "outputs": [],
   "source": [
    "orientation_field.raw.shape"
   ]
  },
  {
   "cell_type": "code",
   "execution_count": null,
   "metadata": {
    "collapsed": false
   },
   "outputs": [],
   "source": [
    "sub_fields = vf.split_orientation_field(orientation_field.raw)\n",
    "VoxcellWidget().show_vectors('Z', sub_fields[2], 5000, orientation_field.voxel_dimensions)"
   ]
  },
  {
   "cell_type": "code",
   "execution_count": null,
   "metadata": {
    "collapsed": false
   },
   "outputs": [],
   "source": [
    "VoxcellWidget().show_vectors('Y', sub_fields[1], 5000, orientation_field.voxel_dimensions)"
   ]
  },
  {
   "cell_type": "code",
   "execution_count": null,
   "metadata": {
    "collapsed": false
   },
   "outputs": [],
   "source": [
    "VoxcellWidget().show_vectors('X', sub_fields[0], 5000, orientation_field.voxel_dimensions)"
   ]
  },
  {
   "cell_type": "code",
   "execution_count": null,
   "metadata": {
    "collapsed": false
   },
   "outputs": [],
   "source": []
  }
 ],
 "metadata": {
  "kernelspec": {
   "display_name": "Python 2",
   "language": "python",
   "name": "python2"
  },
  "language_info": {
   "codemirror_mode": {
    "name": "ipython",
    "version": 2
   },
   "file_extension": ".py",
   "mimetype": "text/x-python",
   "name": "python",
   "nbconvert_exporter": "python",
   "pygments_lexer": "ipython2",
   "version": "2.7.6"
  }
 },
 "nbformat": 4,
 "nbformat_minor": 0
}
