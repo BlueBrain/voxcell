{
 "cells": [
  {
   "cell_type": "code",
   "execution_count": 1,
   "metadata": {
    "collapsed": false
   },
   "outputs": [
    {
     "name": "stderr",
     "output_type": "stream",
     "text": [
      "/home/courcol/DEV/notebook_extensions/BrainBuilder/platform_venv/local/lib/python2.7/site-packages/matplotlib/font_manager.py:273: UserWarning: Matplotlib is building the font cache using fc-list. This may take a moment.\n",
      "  warnings.warn('Matplotlib is building the font cache using fc-list. This may take a moment.')\n"
     ]
    }
   ],
   "source": [
    "from collections import namedtuple\n",
    "import fractions\n",
    "import numpy as np\n",
    "import pandas as pd\n",
    "from voxcellview.widget import VoxcellWidget\n",
    "\n",
    "\n",
    "from voxcell.core import CellCollection, VoxelData\n",
    "from voxcell import build\n",
    "\n",
    "%matplotlib inline"
   ]
  },
  {
   "cell_type": "markdown",
   "metadata": {},
   "source": [
    "network properties from: https://collab.humanbrainproject.eu/#/collab/375/nav/3533"
   ]
  },
  {
   "cell_type": "markdown",
   "metadata": {},
   "source": [
    "units for length (heights, widths,...) are all in µm."
   ]
  },
  {
   "cell_type": "markdown",
   "metadata": {},
   "source": [
    "# density"
   ]
  },
  {
   "cell_type": "markdown",
   "metadata": {},
   "source": [
    "## layered annotations"
   ]
  },
  {
   "cell_type": "code",
   "execution_count": 2,
   "metadata": {
    "collapsed": false
   },
   "outputs": [],
   "source": [
    "LayerDefinition = namedtuple(\"LayerDefinition\", \"name height id\")\n",
    "layer_definitions = [\n",
    "    # Granular Layer\n",
    "    LayerDefinition(\"GL\", 151, 1),\n",
    "    # Purkinje cell Layer\n",
    "    LayerDefinition(\"PL\", 35, 2),\n",
    "    # Molecular Layer\n",
    "    LayerDefinition(\"ML\", 300, 3),\n",
    "]\n",
    "\n",
    "volume_length = 600\n",
    "volume_width = 600"
   ]
  },
  {
   "cell_type": "code",
   "execution_count": 3,
   "metadata": {
    "collapsed": false
   },
   "outputs": [],
   "source": [
    "layer_ids = [l.id for l in reversed(layer_definitions)]\n",
    "layer_heights = [l.height for l in reversed(layer_definitions)]"
   ]
  },
  {
   "cell_type": "code",
   "execution_count": 4,
   "metadata": {
    "collapsed": false
   },
   "outputs": [],
   "source": [
    "def get_voxel_side(layer_heights):\n",
    "    rounded_heights = np.round(layer_heights)\n",
    "    result = rounded_heights[0]\n",
    "    for n in rounded_heights:\n",
    "        result = fractions.gcd(result, n)\n",
    "    result = max(5, result)\n",
    "    return result\n",
    "\n",
    "voxel_side = get_voxel_side(layer_heights)\n",
    "\n",
    "layer_heights_voxel = np.round(np.array(layer_heights) / voxel_side).astype(np.uint)\n",
    "volume_length_voxel = volume_length / voxel_side\n",
    "volume_width_voxel = volume_width / voxel_side"
   ]
  },
  {
   "cell_type": "code",
   "execution_count": 5,
   "metadata": {
    "collapsed": false
   },
   "outputs": [],
   "source": [
    "annotation = VoxelData(build.layered_annotation((volume_length_voxel, volume_width_voxel),\n",
    "                                                layer_heights_voxel, layer_ids),\n",
    "                       [voxel_side] * 3)"
   ]
  },
  {
   "cell_type": "code",
   "execution_count": 6,
   "metadata": {
    "collapsed": false
   },
   "outputs": [],
   "source": [
    "VoxcellWidget().show_volume('annotation', annotation, {\"particle_size\": 3})"
   ]
  },
  {
   "cell_type": "markdown",
   "metadata": {},
   "source": [
    "## layer densities"
   ]
  },
  {
   "cell_type": "code",
   "execution_count": 7,
   "metadata": {
    "collapsed": true
   },
   "outputs": [],
   "source": [
    "# unit is cells per µ^3\n",
    "# original data are cells per mm^3\n",
    "DENSITY_RATIO = 1e-9  # to convert between mm^3 and micron^3\n",
    "\n",
    "density = {\n",
    "    \"GL\": {\n",
    "        \"Glomeruli\": 3e5 * DENSITY_RATIO,\n",
    "        # Golgi Cells\n",
    "        \"GoC\": 9e3 * DENSITY_RATIO,\n",
    "        # Granule Cells\n",
    "        \"GrC\": 4e6 * DENSITY_RATIO,\n",
    "    },\n",
    "    \"PL\": {\n",
    "        # Purkinje Cells\n",
    "        \"PC\": 6e5 * DENSITY_RATIO,\n",
    "    },\n",
    "    \"ML\": {\n",
    "        # Stellate Cells\n",
    "        \"SC\": 1e5 * DENSITY_RATIO,\n",
    "        # Basket Cells\n",
    "        \"BC\": 1e5 * DENSITY_RATIO,\n",
    "    },\n",
    "}\n",
    "d_density = pd.DataFrame()"
   ]
  },
  {
   "cell_type": "code",
   "execution_count": 8,
   "metadata": {
    "collapsed": false
   },
   "outputs": [],
   "source": [
    "id_to_layer_name = dict((ld.id, ld.name) for ld in layer_definitions)"
   ]
  },
  {
   "cell_type": "code",
   "execution_count": 9,
   "metadata": {
    "collapsed": false
   },
   "outputs": [],
   "source": [
    "layer_name_to_id = dict((ld.name, ld.id) for ld in layer_definitions)"
   ]
  },
  {
   "cell_type": "code",
   "execution_count": 10,
   "metadata": {
    "collapsed": true
   },
   "outputs": [],
   "source": [
    "voxel_raw = np.zeros_like(annotation.raw, dtype=np.float32)"
   ]
  },
  {
   "cell_type": "code",
   "execution_count": 11,
   "metadata": {
    "collapsed": false
   },
   "outputs": [],
   "source": [
    "for l_id in layer_ids:\n",
    "    mask = annotation.raw == l_id\n",
    "    voxel_count = np.count_nonzero(mask)\n",
    "    layer_name = id_to_layer_name[l_id]\n",
    "    voxel_raw[mask] = float(sum(density[layer_name].values()))\n",
    "\n",
    "voxel_density = VoxelData(voxel_raw, annotation.voxel_dimensions, annotation.offset)"
   ]
  },
  {
   "cell_type": "code",
   "execution_count": 12,
   "metadata": {
    "collapsed": false
   },
   "outputs": [],
   "source": [
    "VoxcellWidget().show_volume('density', voxel_density, {\"particle_size\": 3})"
   ]
  },
  {
   "cell_type": "markdown",
   "metadata": {},
   "source": [
    "# cell positions"
   ]
  },
  {
   "cell_type": "code",
   "execution_count": 13,
   "metadata": {
    "collapsed": false
   },
   "outputs": [],
   "source": [
    "layer_volumes = dict((layer.name, layer.height * volume_length * volume_width)\n",
    "                     for layer in layer_definitions)"
   ]
  },
  {
   "cell_type": "code",
   "execution_count": 14,
   "metadata": {
    "collapsed": false
   },
   "outputs": [
    {
     "data": {
      "text/plain": [
       "{'GL': 54360000, 'ML': 108000000, 'PL': 12600000}"
      ]
     },
     "execution_count": 14,
     "metadata": {},
     "output_type": "execute_result"
    }
   ],
   "source": [
    "layer_volumes"
   ]
  },
  {
   "cell_type": "code",
   "execution_count": 15,
   "metadata": {
    "collapsed": false
   },
   "outputs": [],
   "source": [
    "total_cell_count = round(sum(layer_volumes[layer] * d\n",
    "                             for layer in layer_volumes\n",
    "                             for d in density[layer].values()))"
   ]
  },
  {
   "cell_type": "code",
   "execution_count": 16,
   "metadata": {
    "collapsed": false
   },
   "outputs": [
    {
     "data": {
      "text/plain": [
       "263397.0"
      ]
     },
     "execution_count": 16,
     "metadata": {},
     "output_type": "execute_result"
    }
   ],
   "source": [
    "total_cell_count"
   ]
  },
  {
   "cell_type": "code",
   "execution_count": 17,
   "metadata": {
    "collapsed": true
   },
   "outputs": [],
   "source": [
    "from brainbuilder.cell_positioning import cell_positioning"
   ]
  },
  {
   "cell_type": "code",
   "execution_count": 18,
   "metadata": {
    "collapsed": true
   },
   "outputs": [],
   "source": [
    "new_cells = CellCollection()"
   ]
  },
  {
   "cell_type": "code",
   "execution_count": 19,
   "metadata": {
    "collapsed": false
   },
   "outputs": [],
   "source": [
    "new_cells.positions = cell_positioning(voxel_density, int(total_cell_count))"
   ]
  },
  {
   "cell_type": "code",
   "execution_count": 20,
   "metadata": {
    "collapsed": false
   },
   "outputs": [],
   "source": [
    "VoxcellWidget().show_points('position', new_cells, {\"particle_size\": 1})"
   ]
  },
  {
   "cell_type": "markdown",
   "metadata": {},
   "source": [
    "# mtype assignment"
   ]
  },
  {
   "cell_type": "markdown",
   "metadata": {},
   "source": [
    "## traits"
   ]
  },
  {
   "cell_type": "code",
   "execution_count": 21,
   "metadata": {
    "collapsed": false
   },
   "outputs": [
    {
     "data": {
      "text/html": [
       "<div>\n",
       "<table border=\"1\" class=\"dataframe\">\n",
       "  <thead>\n",
       "    <tr style=\"text-align: right;\">\n",
       "      <th></th>\n",
       "      <th>mtype</th>\n",
       "    </tr>\n",
       "  </thead>\n",
       "  <tbody>\n",
       "    <tr>\n",
       "      <th>0</th>\n",
       "      <td>SC</td>\n",
       "    </tr>\n",
       "    <tr>\n",
       "      <th>1</th>\n",
       "      <td>BC</td>\n",
       "    </tr>\n",
       "    <tr>\n",
       "      <th>2</th>\n",
       "      <td>Glomeruli</td>\n",
       "    </tr>\n",
       "    <tr>\n",
       "      <th>3</th>\n",
       "      <td>GrC</td>\n",
       "    </tr>\n",
       "    <tr>\n",
       "      <th>4</th>\n",
       "      <td>GoC</td>\n",
       "    </tr>\n",
       "    <tr>\n",
       "      <th>5</th>\n",
       "      <td>PC</td>\n",
       "    </tr>\n",
       "  </tbody>\n",
       "</table>\n",
       "</div>"
      ],
      "text/plain": [
       "       mtype\n",
       "0         SC\n",
       "1         BC\n",
       "2  Glomeruli\n",
       "3        GrC\n",
       "4        GoC\n",
       "5         PC"
      ]
     },
     "execution_count": 21,
     "metadata": {},
     "output_type": "execute_result"
    }
   ],
   "source": [
    "traits_mtype = pd.DataFrame([[mtype] for layer in density\n",
    "                             for mtype in density[layer]],\n",
    "                            columns=[\"mtype\"])\n",
    "traits_mtype"
   ]
  },
  {
   "cell_type": "markdown",
   "metadata": {},
   "source": [
    "## distribution"
   ]
  },
  {
   "cell_type": "code",
   "execution_count": 22,
   "metadata": {
    "collapsed": false
   },
   "outputs": [],
   "source": [
    " dist_mtype = pd.DataFrame(data=0.0, index=traits_mtype.index, columns=id_to_layer_name.keys())"
   ]
  },
  {
   "cell_type": "code",
   "execution_count": 23,
   "metadata": {
    "collapsed": false
   },
   "outputs": [],
   "source": [
    "from voxcell.traits import SpatialDistribution"
   ]
  },
  {
   "cell_type": "code",
   "execution_count": 24,
   "metadata": {
    "collapsed": false
   },
   "outputs": [
    {
     "data": {
      "text/html": [
       "<div>\n",
       "<table border=\"1\" class=\"dataframe\">\n",
       "  <thead>\n",
       "    <tr style=\"text-align: right;\">\n",
       "      <th></th>\n",
       "      <th>1</th>\n",
       "      <th>2</th>\n",
       "      <th>3</th>\n",
       "    </tr>\n",
       "  </thead>\n",
       "  <tbody>\n",
       "    <tr>\n",
       "      <th>0</th>\n",
       "      <td>0.000000</td>\n",
       "      <td>0</td>\n",
       "      <td>0.5</td>\n",
       "    </tr>\n",
       "    <tr>\n",
       "      <th>1</th>\n",
       "      <td>0.000000</td>\n",
       "      <td>0</td>\n",
       "      <td>0.5</td>\n",
       "    </tr>\n",
       "    <tr>\n",
       "      <th>2</th>\n",
       "      <td>0.069622</td>\n",
       "      <td>0</td>\n",
       "      <td>0.0</td>\n",
       "    </tr>\n",
       "    <tr>\n",
       "      <th>3</th>\n",
       "      <td>0.928290</td>\n",
       "      <td>0</td>\n",
       "      <td>0.0</td>\n",
       "    </tr>\n",
       "    <tr>\n",
       "      <th>4</th>\n",
       "      <td>0.002089</td>\n",
       "      <td>0</td>\n",
       "      <td>0.0</td>\n",
       "    </tr>\n",
       "    <tr>\n",
       "      <th>5</th>\n",
       "      <td>0.000000</td>\n",
       "      <td>1</td>\n",
       "      <td>0.0</td>\n",
       "    </tr>\n",
       "  </tbody>\n",
       "</table>\n",
       "</div>"
      ],
      "text/plain": [
       "          1  2    3\n",
       "0  0.000000  0  0.5\n",
       "1  0.000000  0  0.5\n",
       "2  0.069622  0  0.0\n",
       "3  0.928290  0  0.0\n",
       "4  0.002089  0  0.0\n",
       "5  0.000000  1  0.0"
      ]
     },
     "execution_count": 24,
     "metadata": {},
     "output_type": "execute_result"
    }
   ],
   "source": [
    "for layer in density:\n",
    "    for mtype in density[layer]:\n",
    "        d = traits_mtype[traits_mtype.mtype == mtype]\n",
    "        dist_mtype.loc[d.index, layer_name_to_id[layer]] = density[layer][mtype]\n",
    "dist_mtype /= dist_mtype.sum()\n",
    "dist_mtype"
   ]
  },
  {
   "cell_type": "markdown",
   "metadata": {},
   "source": [
    "## spatial distribution"
   ]
  },
  {
   "cell_type": "code",
   "execution_count": 25,
   "metadata": {
    "collapsed": false
   },
   "outputs": [],
   "source": [
    "sd = SpatialDistribution(annotation, dist_mtype, traits_mtype)"
   ]
  },
  {
   "cell_type": "code",
   "execution_count": 26,
   "metadata": {
    "collapsed": false
   },
   "outputs": [],
   "source": [
    "chosen_mtype = sd.assign(new_cells.positions)"
   ]
  },
  {
   "cell_type": "code",
   "execution_count": 27,
   "metadata": {
    "collapsed": false
   },
   "outputs": [],
   "source": [
    "property_mtype = sd.collect_traits(chosen_mtype, ['mtype'])"
   ]
  },
  {
   "cell_type": "code",
   "execution_count": 28,
   "metadata": {
    "collapsed": false
   },
   "outputs": [],
   "source": [
    "new_cells.add_properties(property_mtype)"
   ]
  },
  {
   "cell_type": "markdown",
   "metadata": {},
   "source": [
    "performs intrinsic validations based on the densities"
   ]
  },
  {
   "cell_type": "code",
   "execution_count": 29,
   "metadata": {
    "collapsed": false
   },
   "outputs": [
    {
     "data": {
      "text/html": [
       "<div>\n",
       "<table border=\"1\" class=\"dataframe\">\n",
       "  <thead>\n",
       "    <tr style=\"text-align: right;\">\n",
       "      <th></th>\n",
       "      <th>delta %</th>\n",
       "    </tr>\n",
       "  </thead>\n",
       "  <tbody>\n",
       "    <tr>\n",
       "      <th>SC</th>\n",
       "      <td>-0.91</td>\n",
       "    </tr>\n",
       "    <tr>\n",
       "      <th>BC</th>\n",
       "      <td>1.10</td>\n",
       "    </tr>\n",
       "    <tr>\n",
       "      <th>Glomeruli</th>\n",
       "      <td>-0.18</td>\n",
       "    </tr>\n",
       "    <tr>\n",
       "      <th>GrC</th>\n",
       "      <td>-0.06</td>\n",
       "    </tr>\n",
       "    <tr>\n",
       "      <th>GoC</th>\n",
       "      <td>1.59</td>\n",
       "    </tr>\n",
       "    <tr>\n",
       "      <th>PC</th>\n",
       "      <td>1.71</td>\n",
       "    </tr>\n",
       "  </tbody>\n",
       "</table>\n",
       "</div>"
      ],
      "text/plain": [
       "           delta %\n",
       "SC           -0.91\n",
       "BC            1.10\n",
       "Glomeruli    -0.18\n",
       "GrC          -0.06\n",
       "GoC           1.59\n",
       "PC            1.71"
      ]
     },
     "execution_count": 29,
     "metadata": {},
     "output_type": "execute_result"
    }
   ],
   "source": [
    "def sum_cells_mtype(cells, mtype):\n",
    "    ''' count the number of cells of a given mtype'''\n",
    "    return np.count_nonzero(cells.properties[cells.properties.mtype == mtype].mtype)\n",
    "\n",
    "\n",
    "def get_density_delta(ref_densities, cells, layer_volumes):\n",
    "    ''' get a panda dataframe for the density delta\n",
    "    between ref_densities and given cell collection\n",
    "    '''\n",
    "    density_delta = pd.DataFrame(columns=['delta %'])\n",
    "    for layer_name in ref_densities:\n",
    "        for mtype in ref_densities[layer_name]:\n",
    "            ref_density = ref_densities[layer_name][mtype]\n",
    "            nb_cells = sum_cells_mtype(cells, mtype)\n",
    "            model_density = float(nb_cells) / layer_volumes[layer_name]\n",
    "            ratio = ((model_density / ref_density) - 1.0) * 100\n",
    "            density_delta.loc[mtype] = round(ratio, 2)\n",
    "    return density_delta\n",
    "\n",
    "get_density_delta(density, new_cells, layer_volumes)"
   ]
  },
  {
   "cell_type": "code",
   "execution_count": 30,
   "metadata": {
    "collapsed": false
   },
   "outputs": [],
   "source": [
    "VoxcellWidget().show_property('mtype', new_cells, display_parameters={\"particle_size\": 1.5})"
   ]
  },
  {
   "cell_type": "markdown",
   "metadata": {
    "collapsed": true
   },
   "source": [
    "# morphology assignment"
   ]
  },
  {
   "cell_type": "markdown",
   "metadata": {},
   "source": [
    "for each mtype, morphology models are uniformly distributed."
   ]
  },
  {
   "cell_type": "markdown",
   "metadata": {},
   "source": [
    "morphology_models lists are built based on a sample from https://collab.humanbrainproject.eu/#/collab/375/nav/3410\n",
    "please update it with the morphologies you want to take into account."
   ]
  },
  {
   "cell_type": "code",
   "execution_count": 31,
   "metadata": {
    "collapsed": true
   },
   "outputs": [],
   "source": [
    "morphology_models = {\n",
    "    \"BC\": [\"189-1-15dw.CNG\", \"189-1-3dw.CNG\", \"189-1-5dw.CNG\", \"189-1-9dw.CNG\"],\n",
    "    \"GrC\": [\"210710C0.CNG\", \"240710C0.CNG\", \"270111C0.CNG\", \"270111C3.CNG\", \"Golgi-cell-051108-C0-cell1.CNG\"],\n",
    "    \"PC\": [\"Purkinje-slice-ageP35-1.CNG\", \"Purkinje-slice-ageP35-2.CNG\"],\n",
    "    \"SC\": [\"189-1-10dw.CNG\", \"189-1-12dw.CNG\", \"189-1-16dw.CNG\", \"189-1-1dw.CNG\", \"189-1-27dw.CNG\", \"189-1-6dw.CNG\", \"189-1-7dw.CNG\"],\n",
    "    \"Glomeruli\": [\"Glomeruli-example\"],\n",
    "    \"GoC\": [\"GoC-Example\"]\n",
    "}"
   ]
  },
  {
   "cell_type": "markdown",
   "metadata": {},
   "source": [
    "## traits"
   ]
  },
  {
   "cell_type": "code",
   "execution_count": 32,
   "metadata": {
    "collapsed": true
   },
   "outputs": [],
   "source": [
    "traits_morph = pd.DataFrame([[mtype, morph] for layer in density\n",
    "                             for mtype in density[layer]\n",
    "                             for morph in morphology_models[mtype]],\n",
    "                            columns=[\"mtype\", \"morph_name\"])"
   ]
  },
  {
   "cell_type": "code",
   "execution_count": 33,
   "metadata": {
    "collapsed": false
   },
   "outputs": [
    {
     "data": {
      "text/html": [
       "<div>\n",
       "<table border=\"1\" class=\"dataframe\">\n",
       "  <thead>\n",
       "    <tr style=\"text-align: right;\">\n",
       "      <th></th>\n",
       "      <th>mtype</th>\n",
       "      <th>morph_name</th>\n",
       "    </tr>\n",
       "  </thead>\n",
       "  <tbody>\n",
       "    <tr>\n",
       "      <th>0</th>\n",
       "      <td>SC</td>\n",
       "      <td>189-1-10dw.CNG</td>\n",
       "    </tr>\n",
       "    <tr>\n",
       "      <th>1</th>\n",
       "      <td>SC</td>\n",
       "      <td>189-1-12dw.CNG</td>\n",
       "    </tr>\n",
       "    <tr>\n",
       "      <th>2</th>\n",
       "      <td>SC</td>\n",
       "      <td>189-1-16dw.CNG</td>\n",
       "    </tr>\n",
       "    <tr>\n",
       "      <th>3</th>\n",
       "      <td>SC</td>\n",
       "      <td>189-1-1dw.CNG</td>\n",
       "    </tr>\n",
       "    <tr>\n",
       "      <th>4</th>\n",
       "      <td>SC</td>\n",
       "      <td>189-1-27dw.CNG</td>\n",
       "    </tr>\n",
       "    <tr>\n",
       "      <th>5</th>\n",
       "      <td>SC</td>\n",
       "      <td>189-1-6dw.CNG</td>\n",
       "    </tr>\n",
       "    <tr>\n",
       "      <th>6</th>\n",
       "      <td>SC</td>\n",
       "      <td>189-1-7dw.CNG</td>\n",
       "    </tr>\n",
       "    <tr>\n",
       "      <th>7</th>\n",
       "      <td>BC</td>\n",
       "      <td>189-1-15dw.CNG</td>\n",
       "    </tr>\n",
       "    <tr>\n",
       "      <th>8</th>\n",
       "      <td>BC</td>\n",
       "      <td>189-1-3dw.CNG</td>\n",
       "    </tr>\n",
       "    <tr>\n",
       "      <th>9</th>\n",
       "      <td>BC</td>\n",
       "      <td>189-1-5dw.CNG</td>\n",
       "    </tr>\n",
       "    <tr>\n",
       "      <th>10</th>\n",
       "      <td>BC</td>\n",
       "      <td>189-1-9dw.CNG</td>\n",
       "    </tr>\n",
       "    <tr>\n",
       "      <th>11</th>\n",
       "      <td>Glomeruli</td>\n",
       "      <td>Glomeruli-example</td>\n",
       "    </tr>\n",
       "    <tr>\n",
       "      <th>12</th>\n",
       "      <td>GrC</td>\n",
       "      <td>210710C0.CNG</td>\n",
       "    </tr>\n",
       "    <tr>\n",
       "      <th>13</th>\n",
       "      <td>GrC</td>\n",
       "      <td>240710C0.CNG</td>\n",
       "    </tr>\n",
       "    <tr>\n",
       "      <th>14</th>\n",
       "      <td>GrC</td>\n",
       "      <td>270111C0.CNG</td>\n",
       "    </tr>\n",
       "    <tr>\n",
       "      <th>15</th>\n",
       "      <td>GrC</td>\n",
       "      <td>270111C3.CNG</td>\n",
       "    </tr>\n",
       "    <tr>\n",
       "      <th>16</th>\n",
       "      <td>GrC</td>\n",
       "      <td>Golgi-cell-051108-C0-cell1.CNG</td>\n",
       "    </tr>\n",
       "    <tr>\n",
       "      <th>17</th>\n",
       "      <td>GoC</td>\n",
       "      <td>GoC-Example</td>\n",
       "    </tr>\n",
       "    <tr>\n",
       "      <th>18</th>\n",
       "      <td>PC</td>\n",
       "      <td>Purkinje-slice-ageP35-1.CNG</td>\n",
       "    </tr>\n",
       "    <tr>\n",
       "      <th>19</th>\n",
       "      <td>PC</td>\n",
       "      <td>Purkinje-slice-ageP35-2.CNG</td>\n",
       "    </tr>\n",
       "  </tbody>\n",
       "</table>\n",
       "</div>"
      ],
      "text/plain": [
       "        mtype                      morph_name\n",
       "0          SC                  189-1-10dw.CNG\n",
       "1          SC                  189-1-12dw.CNG\n",
       "2          SC                  189-1-16dw.CNG\n",
       "3          SC                   189-1-1dw.CNG\n",
       "4          SC                  189-1-27dw.CNG\n",
       "5          SC                   189-1-6dw.CNG\n",
       "6          SC                   189-1-7dw.CNG\n",
       "7          BC                  189-1-15dw.CNG\n",
       "8          BC                   189-1-3dw.CNG\n",
       "9          BC                   189-1-5dw.CNG\n",
       "10         BC                   189-1-9dw.CNG\n",
       "11  Glomeruli               Glomeruli-example\n",
       "12        GrC                    210710C0.CNG\n",
       "13        GrC                    240710C0.CNG\n",
       "14        GrC                    270111C0.CNG\n",
       "15        GrC                    270111C3.CNG\n",
       "16        GrC  Golgi-cell-051108-C0-cell1.CNG\n",
       "17        GoC                     GoC-Example\n",
       "18         PC     Purkinje-slice-ageP35-1.CNG\n",
       "19         PC     Purkinje-slice-ageP35-2.CNG"
      ]
     },
     "execution_count": 33,
     "metadata": {},
     "output_type": "execute_result"
    }
   ],
   "source": [
    "traits_morph"
   ]
  },
  {
   "cell_type": "markdown",
   "metadata": {},
   "source": [
    "## distribution"
   ]
  },
  {
   "cell_type": "code",
   "execution_count": 34,
   "metadata": {
    "collapsed": false
   },
   "outputs": [],
   "source": [
    "dist_morphology = pd.DataFrame(data=0.0, index=traits_morph.index, columns=id_to_layer_name.keys())"
   ]
  },
  {
   "cell_type": "code",
   "execution_count": 35,
   "metadata": {
    "collapsed": true
   },
   "outputs": [],
   "source": [
    "from voxcell.traits import SpatialDistribution"
   ]
  },
  {
   "cell_type": "code",
   "execution_count": 36,
   "metadata": {
    "collapsed": false
   },
   "outputs": [
    {
     "data": {
      "text/html": [
       "<div>\n",
       "<table border=\"1\" class=\"dataframe\">\n",
       "  <thead>\n",
       "    <tr style=\"text-align: right;\">\n",
       "      <th></th>\n",
       "      <th>1</th>\n",
       "      <th>2</th>\n",
       "      <th>3</th>\n",
       "    </tr>\n",
       "  </thead>\n",
       "  <tbody>\n",
       "    <tr>\n",
       "      <th>0</th>\n",
       "      <td>0.000000</td>\n",
       "      <td>0.0</td>\n",
       "      <td>0.090909</td>\n",
       "    </tr>\n",
       "    <tr>\n",
       "      <th>1</th>\n",
       "      <td>0.000000</td>\n",
       "      <td>0.0</td>\n",
       "      <td>0.090909</td>\n",
       "    </tr>\n",
       "    <tr>\n",
       "      <th>2</th>\n",
       "      <td>0.000000</td>\n",
       "      <td>0.0</td>\n",
       "      <td>0.090909</td>\n",
       "    </tr>\n",
       "    <tr>\n",
       "      <th>3</th>\n",
       "      <td>0.000000</td>\n",
       "      <td>0.0</td>\n",
       "      <td>0.090909</td>\n",
       "    </tr>\n",
       "    <tr>\n",
       "      <th>4</th>\n",
       "      <td>0.000000</td>\n",
       "      <td>0.0</td>\n",
       "      <td>0.090909</td>\n",
       "    </tr>\n",
       "    <tr>\n",
       "      <th>5</th>\n",
       "      <td>0.000000</td>\n",
       "      <td>0.0</td>\n",
       "      <td>0.090909</td>\n",
       "    </tr>\n",
       "    <tr>\n",
       "      <th>6</th>\n",
       "      <td>0.000000</td>\n",
       "      <td>0.0</td>\n",
       "      <td>0.090909</td>\n",
       "    </tr>\n",
       "    <tr>\n",
       "      <th>7</th>\n",
       "      <td>0.000000</td>\n",
       "      <td>0.0</td>\n",
       "      <td>0.090909</td>\n",
       "    </tr>\n",
       "    <tr>\n",
       "      <th>8</th>\n",
       "      <td>0.000000</td>\n",
       "      <td>0.0</td>\n",
       "      <td>0.090909</td>\n",
       "    </tr>\n",
       "    <tr>\n",
       "      <th>9</th>\n",
       "      <td>0.000000</td>\n",
       "      <td>0.0</td>\n",
       "      <td>0.090909</td>\n",
       "    </tr>\n",
       "    <tr>\n",
       "      <th>10</th>\n",
       "      <td>0.000000</td>\n",
       "      <td>0.0</td>\n",
       "      <td>0.090909</td>\n",
       "    </tr>\n",
       "    <tr>\n",
       "      <th>11</th>\n",
       "      <td>0.142857</td>\n",
       "      <td>0.0</td>\n",
       "      <td>0.000000</td>\n",
       "    </tr>\n",
       "    <tr>\n",
       "      <th>12</th>\n",
       "      <td>0.142857</td>\n",
       "      <td>0.0</td>\n",
       "      <td>0.000000</td>\n",
       "    </tr>\n",
       "    <tr>\n",
       "      <th>13</th>\n",
       "      <td>0.142857</td>\n",
       "      <td>0.0</td>\n",
       "      <td>0.000000</td>\n",
       "    </tr>\n",
       "    <tr>\n",
       "      <th>14</th>\n",
       "      <td>0.142857</td>\n",
       "      <td>0.0</td>\n",
       "      <td>0.000000</td>\n",
       "    </tr>\n",
       "    <tr>\n",
       "      <th>15</th>\n",
       "      <td>0.142857</td>\n",
       "      <td>0.0</td>\n",
       "      <td>0.000000</td>\n",
       "    </tr>\n",
       "    <tr>\n",
       "      <th>16</th>\n",
       "      <td>0.142857</td>\n",
       "      <td>0.0</td>\n",
       "      <td>0.000000</td>\n",
       "    </tr>\n",
       "    <tr>\n",
       "      <th>17</th>\n",
       "      <td>0.142857</td>\n",
       "      <td>0.0</td>\n",
       "      <td>0.000000</td>\n",
       "    </tr>\n",
       "    <tr>\n",
       "      <th>18</th>\n",
       "      <td>0.000000</td>\n",
       "      <td>0.5</td>\n",
       "      <td>0.000000</td>\n",
       "    </tr>\n",
       "    <tr>\n",
       "      <th>19</th>\n",
       "      <td>0.000000</td>\n",
       "      <td>0.5</td>\n",
       "      <td>0.000000</td>\n",
       "    </tr>\n",
       "  </tbody>\n",
       "</table>\n",
       "</div>"
      ],
      "text/plain": [
       "           1    2         3\n",
       "0   0.000000  0.0  0.090909\n",
       "1   0.000000  0.0  0.090909\n",
       "2   0.000000  0.0  0.090909\n",
       "3   0.000000  0.0  0.090909\n",
       "4   0.000000  0.0  0.090909\n",
       "5   0.000000  0.0  0.090909\n",
       "6   0.000000  0.0  0.090909\n",
       "7   0.000000  0.0  0.090909\n",
       "8   0.000000  0.0  0.090909\n",
       "9   0.000000  0.0  0.090909\n",
       "10  0.000000  0.0  0.090909\n",
       "11  0.142857  0.0  0.000000\n",
       "12  0.142857  0.0  0.000000\n",
       "13  0.142857  0.0  0.000000\n",
       "14  0.142857  0.0  0.000000\n",
       "15  0.142857  0.0  0.000000\n",
       "16  0.142857  0.0  0.000000\n",
       "17  0.142857  0.0  0.000000\n",
       "18  0.000000  0.5  0.000000\n",
       "19  0.000000  0.5  0.000000"
      ]
     },
     "execution_count": 36,
     "metadata": {},
     "output_type": "execute_result"
    }
   ],
   "source": [
    "for layer in density:\n",
    "    for mtype in density[layer]:\n",
    "        for morph_name in morphology_models[mtype]:\n",
    "            d = traits_morph[(traits_morph.mtype == mtype) & (traits_morph.morph_name == morph_name)]\n",
    "            dist_morphology.loc[d.index, layer_name_to_id[layer]] = 1\n",
    "dist_morphology /= dist_morphology.sum()\n",
    "dist_morphology"
   ]
  },
  {
   "cell_type": "markdown",
   "metadata": {},
   "source": [
    "## spatial distribution"
   ]
  },
  {
   "cell_type": "code",
   "execution_count": 37,
   "metadata": {
    "collapsed": false
   },
   "outputs": [],
   "source": [
    "sd = SpatialDistribution(annotation, dist_morphology, traits_morph)"
   ]
  },
  {
   "cell_type": "code",
   "execution_count": 38,
   "metadata": {
    "collapsed": false
   },
   "outputs": [],
   "source": [
    "chosen_morph = sd.assign_conditional(new_cells.positions, property_mtype)"
   ]
  },
  {
   "cell_type": "code",
   "execution_count": 39,
   "metadata": {
    "collapsed": false
   },
   "outputs": [],
   "source": [
    "property_morph = sd.collect_traits(chosen_morph, ['morph_name'])"
   ]
  },
  {
   "cell_type": "code",
   "execution_count": 40,
   "metadata": {
    "collapsed": true
   },
   "outputs": [],
   "source": [
    "new_cells.add_properties(property_morph)"
   ]
  },
  {
   "cell_type": "markdown",
   "metadata": {},
   "source": [
    "perform instrinsic validations based on densities"
   ]
  },
  {
   "cell_type": "code",
   "execution_count": 41,
   "metadata": {
    "collapsed": false
   },
   "outputs": [
    {
     "data": {
      "text/html": [
       "<div>\n",
       "<table border=\"1\" class=\"dataframe\">\n",
       "  <thead>\n",
       "    <tr style=\"text-align: right;\">\n",
       "      <th></th>\n",
       "      <th>delta %</th>\n",
       "    </tr>\n",
       "  </thead>\n",
       "  <tbody>\n",
       "    <tr>\n",
       "      <th>SC</th>\n",
       "      <td>-0.91</td>\n",
       "    </tr>\n",
       "    <tr>\n",
       "      <th>BC</th>\n",
       "      <td>1.10</td>\n",
       "    </tr>\n",
       "    <tr>\n",
       "      <th>Glomeruli</th>\n",
       "      <td>-0.18</td>\n",
       "    </tr>\n",
       "    <tr>\n",
       "      <th>GrC</th>\n",
       "      <td>-0.06</td>\n",
       "    </tr>\n",
       "    <tr>\n",
       "      <th>GoC</th>\n",
       "      <td>1.59</td>\n",
       "    </tr>\n",
       "    <tr>\n",
       "      <th>PC</th>\n",
       "      <td>1.71</td>\n",
       "    </tr>\n",
       "  </tbody>\n",
       "</table>\n",
       "</div>"
      ],
      "text/plain": [
       "           delta %\n",
       "SC           -0.91\n",
       "BC            1.10\n",
       "Glomeruli    -0.18\n",
       "GrC          -0.06\n",
       "GoC           1.59\n",
       "PC            1.71"
      ]
     },
     "execution_count": 41,
     "metadata": {},
     "output_type": "execute_result"
    }
   ],
   "source": [
    "get_density_delta(density, new_cells, layer_volumes)"
   ]
  },
  {
   "cell_type": "code",
   "execution_count": 42,
   "metadata": {
    "collapsed": false
   },
   "outputs": [],
   "source": [
    "VoxcellWidget().show_property('morph_name', new_cells, display_parameters={\"particle_size\": 1.5})"
   ]
  },
  {
   "cell_type": "markdown",
   "metadata": {},
   "source": [
    "# orientation assignment (WIP)"
   ]
  },
  {
   "cell_type": "code",
   "execution_count": 43,
   "metadata": {
    "collapsed": true
   },
   "outputs": [],
   "source": [
    "from voxcell import vector_fields as vf"
   ]
  },
  {
   "cell_type": "code",
   "execution_count": 44,
   "metadata": {
    "collapsed": false
   },
   "outputs": [],
   "source": [
    "v_right = vf.generate_homogeneous_field(np.ones(annotation.raw.shape, dtype=np.bool),\n",
    "                                        np.array([1, 0, 0]))"
   ]
  },
  {
   "cell_type": "code",
   "execution_count": 45,
   "metadata": {
    "collapsed": false
   },
   "outputs": [],
   "source": [
    "v_up = vf.generate_homogeneous_field(np.ones(annotation.raw.shape, dtype=np.bool),\n",
    "                                     np.array([0, 1, 0]))"
   ]
  },
  {
   "cell_type": "code",
   "execution_count": 46,
   "metadata": {
    "collapsed": true
   },
   "outputs": [],
   "source": [
    "v_fwd = vf.generate_homogeneous_field(np.ones(annotation.raw.shape, dtype=np.bool),\n",
    "                                      np.array([0, 0, 1]))"
   ]
  },
  {
   "cell_type": "code",
   "execution_count": 47,
   "metadata": {
    "collapsed": true
   },
   "outputs": [],
   "source": [
    "fields = vf.combine_vector_fields([v_right, v_up, v_fwd])"
   ]
  },
  {
   "cell_type": "code",
   "execution_count": 48,
   "metadata": {
    "collapsed": false
   },
   "outputs": [],
   "source": [
    "orientation_field = VoxelData(fields, annotation.voxel_dimensions, annotation.offset)"
   ]
  },
  {
   "cell_type": "code",
   "execution_count": 49,
   "metadata": {
    "collapsed": false
   },
   "outputs": [
    {
     "data": {
      "text/plain": [
       "(120, 97, 120, 3, 3)"
      ]
     },
     "execution_count": 49,
     "metadata": {},
     "output_type": "execute_result"
    }
   ],
   "source": [
    "orientation_field.raw.shape"
   ]
  },
  {
   "cell_type": "code",
   "execution_count": 50,
   "metadata": {
    "collapsed": false
   },
   "outputs": [],
   "source": [
    "sub_fields = vf.split_orientation_field(orientation_field.raw)\n",
    "VoxcellWidget().show_vectors('Z', sub_fields[2], 5000, orientation_field.voxel_dimensions)"
   ]
  },
  {
   "cell_type": "code",
   "execution_count": 51,
   "metadata": {
    "collapsed": false
   },
   "outputs": [],
   "source": [
    "VoxcellWidget().show_vectors('Y', sub_fields[1], 5000, orientation_field.voxel_dimensions)"
   ]
  },
  {
   "cell_type": "code",
   "execution_count": 52,
   "metadata": {
    "collapsed": false
   },
   "outputs": [],
   "source": [
    "VoxcellWidget().show_vectors('X', sub_fields[0], 5000, orientation_field.voxel_dimensions)"
   ]
  },
  {
   "cell_type": "code",
   "execution_count": null,
   "metadata": {
    "collapsed": true
   },
   "outputs": [],
   "source": []
  }
 ],
 "metadata": {
  "kernelspec": {
   "display_name": "Python 2",
   "language": "python",
   "name": "python2"
  },
  "language_info": {
   "codemirror_mode": {
    "name": "ipython",
    "version": 2
   },
   "file_extension": ".py",
   "mimetype": "text/x-python",
   "name": "python",
   "nbconvert_exporter": "python",
   "pygments_lexer": "ipython2",
   "version": "2.7.6"
  }
 },
 "nbformat": 4,
 "nbformat_minor": 0
}
